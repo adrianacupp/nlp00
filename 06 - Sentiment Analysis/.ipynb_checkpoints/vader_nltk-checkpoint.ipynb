{
 "cells": [
  {
   "cell_type": "markdown",
   "metadata": {
    "colab_type": "text",
    "id": "view-in-github"
   },
   "source": [
    "<a href=\"https://colab.research.google.com/github/ProfAI/nlp00/blob/master/6%20-%20Sentiment%20Analysis/sentiment_analysis_nltk.ipynb\" target=\"_parent\"><img src=\"https://colab.research.google.com/assets/colab-badge.svg\" alt=\"Open In Colab\"/></a>"
   ]
  },
  {
   "cell_type": "markdown",
   "metadata": {
    "colab_type": "text",
    "id": "OpXuOg4pGqPh"
   },
   "source": [
    "# Sentiment Analysis con NLTK e Vader\n",
    "In questo notebook vedremo come estrarre il sentiment di una frase, che ci permette di comprendere se l'emozione espressa è positiva o negativa, utilizzando il modulo Vader con NLTK"
   ]
  },
  {
   "cell_type": "markdown",
   "metadata": {
    "colab_type": "text",
    "id": "uoX2APpsLlGl"
   },
   "source": [
    "## Vader\n",
    "Vader (Valene Aware Dictionary for Sentiment Reasoning) è un modulo utilizzato per la sentiment analysis, specialmente sui social media, che contiene un dizionario di parole già annotate come positive e negative che, in combinazione con un set di regole lessicali, ci permette di sapere non solo se una frase contiene un sentiment positivo o negativo, ma anche quanto è positivo o negativo tale sentiment.\n",
    "<br>\n",
    "Per usare Vade con NLTK dobbiamo scaricare e installare il modulo 'vader_lexicon'."
   ]
  },
  {
   "cell_type": "code",
   "execution_count": 1,
   "metadata": {
    "colab": {
     "base_uri": "https://localhost:8080/",
     "height": 51
    },
    "colab_type": "code",
    "id": "PUxC2cLCMyb3",
    "outputId": "6c5d862b-84a3-4b85-8b18-01e2ca4ceaaf"
   },
   "outputs": [
    {
     "name": "stderr",
     "output_type": "stream",
     "text": [
      "[nltk_data] Downloading package vader_lexicon to\n",
      "[nltk_data]     /Users/adrianacuppuleri/nltk_data...\n"
     ]
    },
    {
     "data": {
      "text/plain": [
       "True"
      ]
     },
     "execution_count": 1,
     "metadata": {},
     "output_type": "execute_result"
    }
   ],
   "source": [
    "import nltk\n",
    "nltk.download('vader_lexicon')"
   ]
  },
  {
   "cell_type": "markdown",
   "metadata": {
    "colab_type": "text",
    "id": "U33a-ZK2eGjg"
   },
   "source": [
    "Ora importiamo la classe *SentimentIntensityAnalyzer*, creiamo un'alias per abbreviare un po' il nome. Possiamo ottenere il sentiment di una frase usando il metodo *polarity_score(text)*, proviamo con una semplice recensione di una app."
   ]
  },
  {
   "cell_type": "code",
   "execution_count": 2,
   "metadata": {
    "colab": {
     "base_uri": "https://localhost:8080/",
     "height": 34
    },
    "colab_type": "code",
    "id": "uVi-FjdDGlX0",
    "outputId": "29781a7f-2911-454a-f03b-34791c19ae46"
   },
   "outputs": [
    {
     "data": {
      "text/plain": [
       "{'neg': 0.0, 'neu': 0.323, 'pos': 0.677, 'compound': 0.6369}"
      ]
     },
     "execution_count": 2,
     "metadata": {},
     "output_type": "execute_result"
    }
   ],
   "source": [
    "from nltk.sentiment.vader import SentimentIntensityAnalyzer as SentimentAnalyzer\n",
    "\n",
    "sentiment_analyzer = SentimentAnalyzer()\n",
    "\n",
    "text = \"I love this app\" # Amo questa app\n",
    "sentiment_analyzer.polarity_scores(text)"
   ]
  },
  {
   "cell_type": "markdown",
   "metadata": {
    "colab_type": "text",
    "id": "4ezApY3WeY5r"
   },
   "source": [
    "L'ouput è un dizionario che contiene 4 valori:\n",
    " - **compound**: è il sentiment tra -1 e 1, maggiore di zero è positivo, minore è negativo.\n",
    " - **neg**: punteggio per le parole negative, tra 0 e 1.\n",
    " - **neu**: punteggio per le parole neutre, tra 0 e 1.\n",
    " - **pos**: punteggio per le parole positive, tra 0 e 1.\n",
    " \n",
    " \n",
    " In questo caso la recensione è molto positiva. Proviamo con una negativa."
   ]
  },
  {
   "cell_type": "code",
   "execution_count": 3,
   "metadata": {
    "colab": {
     "base_uri": "https://localhost:8080/",
     "height": 34
    },
    "colab_type": "code",
    "id": "arFX-SmuL1fo",
    "outputId": "105cc6ad-171c-4053-d1c6-262fdc3db096"
   },
   "outputs": [
    {
     "data": {
      "text/plain": [
       "{'neg': 0.345, 'neu': 0.655, 'pos': 0.0, 'compound': -0.2755}"
      ]
     },
     "execution_count": 3,
     "metadata": {},
     "output_type": "execute_result"
    }
   ],
   "source": [
    "text = \"I didn't like this app, unistalled\" # Non mi è piaciuta questa app, disinstallata.\n",
    "sentiment_analyzer.polarity_scores(text)"
   ]
  },
  {
   "cell_type": "markdown",
   "metadata": {
    "colab_type": "text",
    "id": "6MRaarUSfGnw"
   },
   "source": [
    "La recensione viene riconosciuta come piuttosto negativa, nota come l'algoritmo è riuscito a comprendere la negazione \"didn't like\", se avesse ragionato parola per parola il sentiment sarebbe stato positivo dato che like è una parola positiva.\n",
    "<br>\n",
    "Proviamo con una recensione un po' più ambigua."
   ]
  },
  {
   "cell_type": "code",
   "execution_count": 4,
   "metadata": {
    "colab": {
     "base_uri": "https://localhost:8080/",
     "height": 34
    },
    "colab_type": "code",
    "id": "GPRzDv_9OWrI",
    "outputId": "1e99080b-e937-4082-ce75-52b2d212000e"
   },
   "outputs": [
    {
     "data": {
      "text/plain": [
       "{'neg': 0.228, 'neu': 0.588, 'pos': 0.184, 'compound': -0.1531}"
      ]
     },
     "execution_count": 4,
     "metadata": {},
     "output_type": "execute_result"
    }
   ],
   "source": [
    "text = \"I like this app even if the user interface is poor\" # Mi piace questa app anche se l'interfaccia grafica è un po' povera.\n",
    "sentiment_analyzer.polarity_scores(text)"
   ]
  },
  {
   "cell_type": "markdown",
   "metadata": {
    "colab_type": "text",
    "id": "9flFVPYMfn2s"
   },
   "source": [
    "La recensione viene riconosciuta come lievemente negativa, cambiamo 'like' con 'love'."
   ]
  },
  {
   "cell_type": "code",
   "execution_count": 5,
   "metadata": {
    "colab": {
     "base_uri": "https://localhost:8080/",
     "height": 34
    },
    "colab_type": "code",
    "id": "O4a-ZUwnPVCE",
    "outputId": "22fe0b20-8cba-42bb-f913-892b4f1e9a6b"
   },
   "outputs": [
    {
     "data": {
      "text/plain": [
       "{'neg': 0.203, 'neu': 0.523, 'pos': 0.275, 'compound': 0.2732}"
      ]
     },
     "execution_count": 5,
     "metadata": {},
     "output_type": "execute_result"
    }
   ],
   "source": [
    "text = \"I love this app even if the user interface is poor\" # Amo questa app anche se l'interfaccia grafica è un po' povera.\n",
    "sentiment_analyzer.polarity_scores(text)"
   ]
  },
  {
   "cell_type": "markdown",
   "metadata": {
    "colab_type": "text",
    "id": "946GmiWAf0E-"
   },
   "source": [
    "In questo caso la recensione diventa positiva, le parole scritte in maiuscolo hanno un'intensità maggiore (nel web il maiuscolo equivale ad urlare HAI CAPITO ?)"
   ]
  },
  {
   "cell_type": "code",
   "execution_count": 6,
   "metadata": {
    "colab": {
     "base_uri": "https://localhost:8080/",
     "height": 34
    },
    "colab_type": "code",
    "id": "1qiO6mSTPaDa",
    "outputId": "8db6ebf6-6918-4836-a867-16899e7c0c7f"
   },
   "outputs": [
    {
     "data": {
      "text/plain": [
       "{'neg': 0.193, 'neu': 0.499, 'pos': 0.308, 'compound': 0.4278}"
      ]
     },
     "execution_count": 6,
     "metadata": {},
     "output_type": "execute_result"
    }
   ],
   "source": [
    "text = \"I LOVE this app even if the user interface is poor\" # AMO questa app anche se l'interfaccia grafica è un po' povera.\n",
    "sentiment_analyzer.polarity_scores(text)"
   ]
  },
  {
   "cell_type": "markdown",
   "metadata": {
    "colab_type": "text",
    "id": "7nAzxVlFgEEA"
   },
   "source": [
    "La recensione è diventata ancora più positiva, anche un utilizzo smodato della punteggiatura influisce sul sentiment, dato che può manifestare eccitazione."
   ]
  },
  {
   "cell_type": "code",
   "execution_count": 8,
   "metadata": {
    "colab": {
     "base_uri": "https://localhost:8080/",
     "height": 34
    },
    "colab_type": "code",
    "id": "92yu3XzYPfS2",
    "outputId": "f057871f-c1d3-4fbf-8f5f-e2869a074473"
   },
   "outputs": [
    {
     "data": {
      "text/plain": [
       "{'neg': 0.173, 'neu': 0.503, 'pos': 0.324, 'compound': 0.5732}"
      ]
     },
     "execution_count": 8,
     "metadata": {},
     "output_type": "execute_result"
    }
   ],
   "source": [
    "text = \"I LOVE this app !!! Even if the user interface is poor\" # AMO questa app !!! Anche se l'interfaccia grafica è un po' povera.\n",
    "sentiment_analyzer.polarity_scores(text)"
   ]
  },
  {
   "cell_type": "markdown",
   "metadata": {
    "colab_type": "text",
    "id": "MZF2GPJlhjxa"
   },
   "source": [
    "## Sentiment su recensioni reali\n",
    "Vediamo di fare adesso una prova più impegnativa utilizzando un dataset di 12 recensioni reali lasciate per la mia skill Alexa [hi-fit](https://www.amazon.com/Amanity-HiFit-Home-Workouts/dp/B06XQMFVHQ) nello store americano. Importiamo il dataset all'interno di un Dataframe di Pandas, le colonne del CSV sono serarate da un punto e virgola e non da una virgola (dato che le frasi delle recensioni contengono virgole), passiamo questa informazione a pandas tramite il parametro *sep*."
   ]
  },
  {
   "cell_type": "code",
   "execution_count": 10,
   "metadata": {
    "colab": {
     "base_uri": "https://localhost:8080/",
     "height": 419
    },
    "colab_type": "code",
    "id": "g6TR6jimToQO",
    "outputId": "b85a0f83-f4ad-4745-a776-781d3d51bbd3"
   },
   "outputs": [
    {
     "data": {
      "text/html": [
       "<div>\n",
       "<style scoped>\n",
       "    .dataframe tbody tr th:only-of-type {\n",
       "        vertical-align: middle;\n",
       "    }\n",
       "\n",
       "    .dataframe tbody tr th {\n",
       "        vertical-align: top;\n",
       "    }\n",
       "\n",
       "    .dataframe thead th {\n",
       "        text-align: right;\n",
       "    }\n",
       "</style>\n",
       "<table border=\"1\" class=\"dataframe\">\n",
       "  <thead>\n",
       "    <tr style=\"text-align: right;\">\n",
       "      <th></th>\n",
       "      <th>Username</th>\n",
       "      <th>title</th>\n",
       "      <th>review</th>\n",
       "      <th>rating</th>\n",
       "    </tr>\n",
       "  </thead>\n",
       "  <tbody>\n",
       "    <tr>\n",
       "      <th>0</th>\n",
       "      <td>Amazon Customer</td>\n",
       "      <td>Great With Modifications</td>\n",
       "      <td>The recovery times are longer as some have men...</td>\n",
       "      <td>4.5</td>\n",
       "    </tr>\n",
       "    <tr>\n",
       "      <th>1</th>\n",
       "      <td>Janey_monster</td>\n",
       "      <td>Won't take 'Yes' for an answer!</td>\n",
       "      <td>Just like another reviewer said. Between exerc...</td>\n",
       "      <td>2.0</td>\n",
       "    </tr>\n",
       "    <tr>\n",
       "      <th>2</th>\n",
       "      <td>Gary Mercado</td>\n",
       "      <td>Won't respond to my yes command</td>\n",
       "      <td>The skill won't respond to the yes command and...</td>\n",
       "      <td>2.0</td>\n",
       "    </tr>\n",
       "    <tr>\n",
       "      <th>3</th>\n",
       "      <td>Amazon Customer</td>\n",
       "      <td>Excellent</td>\n",
       "      <td>So far I’m happy of this new Skill. I don’t ha...</td>\n",
       "      <td>5.0</td>\n",
       "    </tr>\n",
       "    <tr>\n",
       "      <th>4</th>\n",
       "      <td>Linda Charlton-Gunderson</td>\n",
       "      <td>Does not always hear ready</td>\n",
       "      <td>I said ready and she would shut off. But when ...</td>\n",
       "      <td>2.0</td>\n",
       "    </tr>\n",
       "    <tr>\n",
       "      <th>5</th>\n",
       "      <td>Mallory galvin</td>\n",
       "      <td>Terrible</td>\n",
       "      <td>Slow and annoying. I don't need 30 seconds to ...</td>\n",
       "      <td>1.0</td>\n",
       "    </tr>\n",
       "    <tr>\n",
       "      <th>6</th>\n",
       "      <td>Amazon Customer</td>\n",
       "      <td>Challenging</td>\n",
       "      <td>I love bodyweight workouts and they look well-...</td>\n",
       "      <td>5.0</td>\n",
       "    </tr>\n",
       "    <tr>\n",
       "      <th>7</th>\n",
       "      <td>jenisse210</td>\n",
       "      <td>Great idea but doesn't work</td>\n",
       "      <td>I've tried to start twice now and I get to sta...</td>\n",
       "      <td>2.0</td>\n",
       "    </tr>\n",
       "    <tr>\n",
       "      <th>8</th>\n",
       "      <td>Matteo</td>\n",
       "      <td>Fantastic!!!</td>\n",
       "      <td>I've never seen something like that, I am a bi...</td>\n",
       "      <td>5.0</td>\n",
       "    </tr>\n",
       "    <tr>\n",
       "      <th>9</th>\n",
       "      <td>Amazon Customer</td>\n",
       "      <td>Five Stars</td>\n",
       "      <td>I tried the app and it's the best one for my d...</td>\n",
       "      <td>5.0</td>\n",
       "    </tr>\n",
       "    <tr>\n",
       "      <th>10</th>\n",
       "      <td>aisha</td>\n",
       "      <td>Great but needs improvement</td>\n",
       "      <td>Great app if it just don't shut itself off tim...</td>\n",
       "      <td>4.0</td>\n",
       "    </tr>\n",
       "    <tr>\n",
       "      <th>11</th>\n",
       "      <td>Rebekah Bertram</td>\n",
       "      <td>love it</td>\n",
       "      <td>my kids do this woth me. i kove it. great musi...</td>\n",
       "      <td>5.0</td>\n",
       "    </tr>\n",
       "  </tbody>\n",
       "</table>\n",
       "</div>"
      ],
      "text/plain": [
       "                    Username                            title  \\\n",
       "0            Amazon Customer         Great With Modifications   \n",
       "1              Janey_monster  Won't take 'Yes' for an answer!   \n",
       "2               Gary Mercado  Won't respond to my yes command   \n",
       "3            Amazon Customer                        Excellent   \n",
       "4   Linda Charlton-Gunderson       Does not always hear ready   \n",
       "5             Mallory galvin                         Terrible   \n",
       "6            Amazon Customer                      Challenging   \n",
       "7                 jenisse210      Great idea but doesn't work   \n",
       "8                     Matteo                     Fantastic!!!   \n",
       "9            Amazon Customer                       Five Stars   \n",
       "10                     aisha      Great but needs improvement   \n",
       "11           Rebekah Bertram                          love it   \n",
       "\n",
       "                                               review  rating  \n",
       "0   The recovery times are longer as some have men...     4.5  \n",
       "1   Just like another reviewer said. Between exerc...     2.0  \n",
       "2   The skill won't respond to the yes command and...     2.0  \n",
       "3   So far I’m happy of this new Skill. I don’t ha...     5.0  \n",
       "4   I said ready and she would shut off. But when ...     2.0  \n",
       "5   Slow and annoying. I don't need 30 seconds to ...     1.0  \n",
       "6   I love bodyweight workouts and they look well-...     5.0  \n",
       "7   I've tried to start twice now and I get to sta...     2.0  \n",
       "8   I've never seen something like that, I am a bi...     5.0  \n",
       "9   I tried the app and it's the best one for my d...     5.0  \n",
       "10  Great app if it just don't shut itself off tim...     4.0  \n",
       "11  my kids do this woth me. i kove it. great musi...     5.0  "
      ]
     },
     "execution_count": 10,
     "metadata": {},
     "output_type": "execute_result"
    }
   ],
   "source": [
    "import pandas as pd\n",
    "\n",
    "#reviews_url = \"https://raw.githubusercontent.com/ProfAI/nlp00/master/6%20-%20Sentiment%20Analysis/data/hifit_reviews.csv\"\n",
    "reviews = pd.read_csv(\"data/hifit_reviews.csv\", sep=\";\")\n",
    "reviews"
   ]
  },
  {
   "cell_type": "markdown",
   "metadata": {
    "colab_type": "text",
    "id": "q0Rlbyw_iXqd"
   },
   "source": [
    "Come vedi abbiamo nome utente, titolo della recensione, testo della recensione e il rating da 1 a 5. Sia il titolo che il testo contengono informazioni utili per la sentiment analysis, quindi uniamoli in un unica stringa."
   ]
  },
  {
   "cell_type": "code",
   "execution_count": 13,
   "metadata": {
    "colab": {
     "base_uri": "https://localhost:8080/",
     "height": 71
    },
    "colab_type": "code",
    "id": "C3iUNRulT4-Z",
    "outputId": "09512def-330f-4962-9605-423b8011fda1"
   },
   "outputs": [
    {
     "name": "stdout",
     "output_type": "stream",
     "text": [
      "<class 'pandas.core.series.Series'>\n",
      "Great With Modifications The recovery times are longer as some have mentioned, but I like to do active recoveries and mix in some cardio, so I jog, do jumping jacks, high knees, etc. during the recovery. Since my workouts are usually 50 minutes, and this is a backup, I will modify the different exercises on different rounds as well. For example, do static lunge squats or backwards lunges instead of just lunges. This makes the workout more challenging and keeps me from boredom. The only thing I don’t like is you can’t pick your music. Overall, this app is just like any workout - it’s yours, do what you want with it.\n"
     ]
    }
   ],
   "source": [
    "full_review = reviews[\"title\"]+\" \"+reviews[\"review\"] #creiamo una recensione completa unendo titolo e corpo della recension\n",
    "\n",
    "print(type(full_review))\n",
    "\n",
    "print(full_review.loc[0])"
   ]
  },
  {
   "cell_type": "markdown",
   "metadata": {
    "colab_type": "text",
    "id": "Lve4Kewhim39"
   },
   "source": [
    "Adesso abbiamo una Series che contiene la review per intero (titolo+corpo), utilizziamo il metodo apply per passare ogni colonna al metodo **polarity_scores(text)**."
   ]
  },
  {
   "cell_type": "code",
   "execution_count": 14,
   "metadata": {},
   "outputs": [
    {
     "data": {
      "text/plain": [
       "{'neg': 0.024, 'neu': 0.794, 'pos': 0.182, 'compound': 0.9541}"
      ]
     },
     "execution_count": 14,
     "metadata": {},
     "output_type": "execute_result"
    }
   ],
   "source": [
    "#singola recensione\n",
    "sentiment_analyzer.polarity_scores(full_review.loc[0])"
   ]
  },
  {
   "cell_type": "code",
   "execution_count": 15,
   "metadata": {
    "colab": {
     "base_uri": "https://localhost:8080/",
     "height": 120
    },
    "colab_type": "code",
    "id": "DF8adKIGWg4Q",
    "outputId": "4ca28cca-bda5-4c3b-d959-58bd4e2aea1b"
   },
   "outputs": [
    {
     "data": {
      "text/plain": [
       "0    {'neg': 0.024, 'neu': 0.794, 'pos': 0.182, 'co...\n",
       "1    {'neg': 0.027, 'neu': 0.855, 'pos': 0.119, 'co...\n",
       "2    {'neg': 0.0, 'neu': 0.725, 'pos': 0.275, 'comp...\n",
       "3    {'neg': 0.0, 'neu': 0.82, 'pos': 0.18, 'compou...\n",
       "4    {'neg': 0.083, 'neu': 0.76, 'pos': 0.156, 'com...\n",
       "dtype: object"
      ]
     },
     "execution_count": 15,
     "metadata": {},
     "output_type": "execute_result"
    }
   ],
   "source": [
    "sentiments = full_review.apply(lambda review: sentiment_analyzer.polarity_scores(review))\n",
    "sentiments.head()"
   ]
  },
  {
   "cell_type": "markdown",
   "metadata": {
    "colab_type": "text",
    "id": "lZrhV8aNi8u0"
   },
   "source": [
    "Il risultato è un'altra Series, in cui ogni colonna contiene il dizionario ritornato dal metodo *polarity_scores(text)*."
   ]
  },
  {
   "cell_type": "code",
   "execution_count": 16,
   "metadata": {
    "colab": {
     "base_uri": "https://localhost:8080/",
     "height": 51
    },
    "colab_type": "code",
    "id": "X3LutUA3YXw9",
    "outputId": "565325f8-a6c0-4a1a-ba7c-2248921e5447"
   },
   "outputs": [
    {
     "name": "stdout",
     "output_type": "stream",
     "text": [
      "<class 'dict'>\n"
     ]
    },
    {
     "data": {
      "text/plain": [
       "{'neg': 0.024, 'neu': 0.794, 'pos': 0.182, 'compound': 0.9541}"
      ]
     },
     "execution_count": 16,
     "metadata": {},
     "output_type": "execute_result"
    }
   ],
   "source": [
    "print(type(sentiments.iloc[0]))\n",
    "sentiments.iloc[0]"
   ]
  },
  {
   "cell_type": "markdown",
   "metadata": {
    "colab_type": "text",
    "id": "jkIoja4vjKLT"
   },
   "source": [
    "Creiamo una nuova colonna 'sentiment score' all'interno del DataFrame, all'interno della quale salviamo il valore del sentiment generale della frase."
   ]
  },
  {
   "cell_type": "code",
   "execution_count": 17,
   "metadata": {
    "colab": {
     "base_uri": "https://localhost:8080/",
     "height": 504
    },
    "colab_type": "code",
    "id": "VmytpYBjYw6b",
    "outputId": "c646e48c-22ce-4887-f27b-fe32625c58ac"
   },
   "outputs": [
    {
     "data": {
      "text/html": [
       "<div>\n",
       "<style scoped>\n",
       "    .dataframe tbody tr th:only-of-type {\n",
       "        vertical-align: middle;\n",
       "    }\n",
       "\n",
       "    .dataframe tbody tr th {\n",
       "        vertical-align: top;\n",
       "    }\n",
       "\n",
       "    .dataframe thead th {\n",
       "        text-align: right;\n",
       "    }\n",
       "</style>\n",
       "<table border=\"1\" class=\"dataframe\">\n",
       "  <thead>\n",
       "    <tr style=\"text-align: right;\">\n",
       "      <th></th>\n",
       "      <th>Username</th>\n",
       "      <th>title</th>\n",
       "      <th>review</th>\n",
       "      <th>rating</th>\n",
       "      <th>sentiment score</th>\n",
       "    </tr>\n",
       "  </thead>\n",
       "  <tbody>\n",
       "    <tr>\n",
       "      <th>0</th>\n",
       "      <td>Amazon Customer</td>\n",
       "      <td>Great With Modifications</td>\n",
       "      <td>The recovery times are longer as some have men...</td>\n",
       "      <td>4.5</td>\n",
       "      <td>0.9541</td>\n",
       "    </tr>\n",
       "    <tr>\n",
       "      <th>1</th>\n",
       "      <td>Janey_monster</td>\n",
       "      <td>Won't take 'Yes' for an answer!</td>\n",
       "      <td>Just like another reviewer said. Between exerc...</td>\n",
       "      <td>2.0</td>\n",
       "      <td>0.8071</td>\n",
       "    </tr>\n",
       "    <tr>\n",
       "      <th>2</th>\n",
       "      <td>Gary Mercado</td>\n",
       "      <td>Won't respond to my yes command</td>\n",
       "      <td>The skill won't respond to the yes command and...</td>\n",
       "      <td>2.0</td>\n",
       "      <td>0.8591</td>\n",
       "    </tr>\n",
       "    <tr>\n",
       "      <th>3</th>\n",
       "      <td>Amazon Customer</td>\n",
       "      <td>Excellent</td>\n",
       "      <td>So far I’m happy of this new Skill. I don’t ha...</td>\n",
       "      <td>5.0</td>\n",
       "      <td>0.7566</td>\n",
       "    </tr>\n",
       "    <tr>\n",
       "      <th>4</th>\n",
       "      <td>Linda Charlton-Gunderson</td>\n",
       "      <td>Does not always hear ready</td>\n",
       "      <td>I said ready and she would shut off. But when ...</td>\n",
       "      <td>2.0</td>\n",
       "      <td>0.7303</td>\n",
       "    </tr>\n",
       "    <tr>\n",
       "      <th>5</th>\n",
       "      <td>Mallory galvin</td>\n",
       "      <td>Terrible</td>\n",
       "      <td>Slow and annoying. I don't need 30 seconds to ...</td>\n",
       "      <td>1.0</td>\n",
       "      <td>-0.7003</td>\n",
       "    </tr>\n",
       "    <tr>\n",
       "      <th>6</th>\n",
       "      <td>Amazon Customer</td>\n",
       "      <td>Challenging</td>\n",
       "      <td>I love bodyweight workouts and they look well-...</td>\n",
       "      <td>5.0</td>\n",
       "      <td>0.7964</td>\n",
       "    </tr>\n",
       "    <tr>\n",
       "      <th>7</th>\n",
       "      <td>jenisse210</td>\n",
       "      <td>Great idea but doesn't work</td>\n",
       "      <td>I've tried to start twice now and I get to sta...</td>\n",
       "      <td>2.0</td>\n",
       "      <td>0.8139</td>\n",
       "    </tr>\n",
       "    <tr>\n",
       "      <th>8</th>\n",
       "      <td>Matteo</td>\n",
       "      <td>Fantastic!!!</td>\n",
       "      <td>I've never seen something like that, I am a bi...</td>\n",
       "      <td>5.0</td>\n",
       "      <td>0.9130</td>\n",
       "    </tr>\n",
       "    <tr>\n",
       "      <th>9</th>\n",
       "      <td>Amazon Customer</td>\n",
       "      <td>Five Stars</td>\n",
       "      <td>I tried the app and it's the best one for my d...</td>\n",
       "      <td>5.0</td>\n",
       "      <td>0.7830</td>\n",
       "    </tr>\n",
       "    <tr>\n",
       "      <th>10</th>\n",
       "      <td>aisha</td>\n",
       "      <td>Great but needs improvement</td>\n",
       "      <td>Great app if it just don't shut itself off tim...</td>\n",
       "      <td>4.0</td>\n",
       "      <td>0.8074</td>\n",
       "    </tr>\n",
       "    <tr>\n",
       "      <th>11</th>\n",
       "      <td>Rebekah Bertram</td>\n",
       "      <td>love it</td>\n",
       "      <td>my kids do this woth me. i kove it. great musi...</td>\n",
       "      <td>5.0</td>\n",
       "      <td>0.8622</td>\n",
       "    </tr>\n",
       "  </tbody>\n",
       "</table>\n",
       "</div>"
      ],
      "text/plain": [
       "                    Username                            title  \\\n",
       "0            Amazon Customer         Great With Modifications   \n",
       "1              Janey_monster  Won't take 'Yes' for an answer!   \n",
       "2               Gary Mercado  Won't respond to my yes command   \n",
       "3            Amazon Customer                        Excellent   \n",
       "4   Linda Charlton-Gunderson       Does not always hear ready   \n",
       "5             Mallory galvin                         Terrible   \n",
       "6            Amazon Customer                      Challenging   \n",
       "7                 jenisse210      Great idea but doesn't work   \n",
       "8                     Matteo                     Fantastic!!!   \n",
       "9            Amazon Customer                       Five Stars   \n",
       "10                     aisha      Great but needs improvement   \n",
       "11           Rebekah Bertram                          love it   \n",
       "\n",
       "                                               review  rating  sentiment score  \n",
       "0   The recovery times are longer as some have men...     4.5           0.9541  \n",
       "1   Just like another reviewer said. Between exerc...     2.0           0.8071  \n",
       "2   The skill won't respond to the yes command and...     2.0           0.8591  \n",
       "3   So far I’m happy of this new Skill. I don’t ha...     5.0           0.7566  \n",
       "4   I said ready and she would shut off. But when ...     2.0           0.7303  \n",
       "5   Slow and annoying. I don't need 30 seconds to ...     1.0          -0.7003  \n",
       "6   I love bodyweight workouts and they look well-...     5.0           0.7964  \n",
       "7   I've tried to start twice now and I get to sta...     2.0           0.8139  \n",
       "8   I've never seen something like that, I am a bi...     5.0           0.9130  \n",
       "9   I tried the app and it's the best one for my d...     5.0           0.7830  \n",
       "10  Great app if it just don't shut itself off tim...     4.0           0.8074  \n",
       "11  my kids do this woth me. i kove it. great musi...     5.0           0.8622  "
      ]
     },
     "execution_count": 17,
     "metadata": {},
     "output_type": "execute_result"
    }
   ],
   "source": [
    "reviews['sentiment score'] = sentiments.apply(lambda sentiment: sentiment[\"compound\"])\n",
    "reviews"
   ]
  },
  {
   "cell_type": "markdown",
   "metadata": {
    "colab_type": "text",
    "id": "vsMl9gVRjW2A"
   },
   "source": [
    "Se vogliamo aggiungiamo anche un label per interpretare il sentiment, definiamo una funzione che mappa il valore del sentimento a un label."
   ]
  },
  {
   "cell_type": "code",
   "execution_count": 18,
   "metadata": {
    "colab": {},
    "colab_type": "code",
    "id": "s4zaIGIYZP87"
   },
   "outputs": [],
   "source": [
    "def sentiment_to_label(sentiment_value):\n",
    "    \n",
    "    if(sentiment_value <= -0.75):\n",
    "      return \"fortemente negativa\"\n",
    "    elif(sentiment_value <= -0.5):\n",
    "      return \"molto negativa\"\n",
    "    elif(sentiment_value <= -0.25):\n",
    "      return \"piuttosto negativa\"\n",
    "    elif(sentiment_value <=0):\n",
    "      return \"negativa\"\n",
    "    elif(sentiment_value<=0.25):\n",
    "      return \"piuttosto positiva\"\n",
    "    elif(sentiment_value<=0.5):\n",
    "      return \"positiva\"\n",
    "    elif(sentiment_value<=0.75):\n",
    "      return \"molto positiva\"\n",
    "    elif(sentiment_value>0.75):\n",
    "      return \"fortemente positiva\"\n",
    "    \n",
    "    return \"errore\""
   ]
  },
  {
   "cell_type": "markdown",
   "metadata": {
    "colab_type": "text",
    "id": "MeXwEoOMjfkl"
   },
   "source": [
    "Ora utilizziamo nuovamente il metodo *.apply* per creare la nuova colonna 'sentiment label'."
   ]
  },
  {
   "cell_type": "code",
   "execution_count": 20,
   "metadata": {
    "colab": {
     "base_uri": "https://localhost:8080/",
     "height": 642
    },
    "colab_type": "code",
    "id": "xTXbdFyEaaRw",
    "outputId": "f6599c92-e58b-4047-99fe-ef3aa208e843"
   },
   "outputs": [
    {
     "data": {
      "text/html": [
       "<div>\n",
       "<style scoped>\n",
       "    .dataframe tbody tr th:only-of-type {\n",
       "        vertical-align: middle;\n",
       "    }\n",
       "\n",
       "    .dataframe tbody tr th {\n",
       "        vertical-align: top;\n",
       "    }\n",
       "\n",
       "    .dataframe thead th {\n",
       "        text-align: right;\n",
       "    }\n",
       "</style>\n",
       "<table border=\"1\" class=\"dataframe\">\n",
       "  <thead>\n",
       "    <tr style=\"text-align: right;\">\n",
       "      <th></th>\n",
       "      <th>Username</th>\n",
       "      <th>title</th>\n",
       "      <th>review</th>\n",
       "      <th>rating</th>\n",
       "      <th>sentiment score</th>\n",
       "      <th>sentiment label</th>\n",
       "    </tr>\n",
       "  </thead>\n",
       "  <tbody>\n",
       "    <tr>\n",
       "      <th>0</th>\n",
       "      <td>Amazon Customer</td>\n",
       "      <td>Great With Modifications</td>\n",
       "      <td>The recovery times are longer as some have men...</td>\n",
       "      <td>4.5</td>\n",
       "      <td>0.9541</td>\n",
       "      <td>fortemente positiva</td>\n",
       "    </tr>\n",
       "    <tr>\n",
       "      <th>1</th>\n",
       "      <td>Janey_monster</td>\n",
       "      <td>Won't take 'Yes' for an answer!</td>\n",
       "      <td>Just like another reviewer said. Between exerc...</td>\n",
       "      <td>2.0</td>\n",
       "      <td>0.8071</td>\n",
       "      <td>fortemente positiva</td>\n",
       "    </tr>\n",
       "    <tr>\n",
       "      <th>2</th>\n",
       "      <td>Gary Mercado</td>\n",
       "      <td>Won't respond to my yes command</td>\n",
       "      <td>The skill won't respond to the yes command and...</td>\n",
       "      <td>2.0</td>\n",
       "      <td>0.8591</td>\n",
       "      <td>fortemente positiva</td>\n",
       "    </tr>\n",
       "    <tr>\n",
       "      <th>3</th>\n",
       "      <td>Amazon Customer</td>\n",
       "      <td>Excellent</td>\n",
       "      <td>So far I’m happy of this new Skill. I don’t ha...</td>\n",
       "      <td>5.0</td>\n",
       "      <td>0.7566</td>\n",
       "      <td>fortemente positiva</td>\n",
       "    </tr>\n",
       "    <tr>\n",
       "      <th>4</th>\n",
       "      <td>Linda Charlton-Gunderson</td>\n",
       "      <td>Does not always hear ready</td>\n",
       "      <td>I said ready and she would shut off. But when ...</td>\n",
       "      <td>2.0</td>\n",
       "      <td>0.7303</td>\n",
       "      <td>molto positiva</td>\n",
       "    </tr>\n",
       "    <tr>\n",
       "      <th>5</th>\n",
       "      <td>Mallory galvin</td>\n",
       "      <td>Terrible</td>\n",
       "      <td>Slow and annoying. I don't need 30 seconds to ...</td>\n",
       "      <td>1.0</td>\n",
       "      <td>-0.7003</td>\n",
       "      <td>molto negativa</td>\n",
       "    </tr>\n",
       "    <tr>\n",
       "      <th>6</th>\n",
       "      <td>Amazon Customer</td>\n",
       "      <td>Challenging</td>\n",
       "      <td>I love bodyweight workouts and they look well-...</td>\n",
       "      <td>5.0</td>\n",
       "      <td>0.7964</td>\n",
       "      <td>fortemente positiva</td>\n",
       "    </tr>\n",
       "    <tr>\n",
       "      <th>7</th>\n",
       "      <td>jenisse210</td>\n",
       "      <td>Great idea but doesn't work</td>\n",
       "      <td>I've tried to start twice now and I get to sta...</td>\n",
       "      <td>2.0</td>\n",
       "      <td>0.8139</td>\n",
       "      <td>fortemente positiva</td>\n",
       "    </tr>\n",
       "    <tr>\n",
       "      <th>8</th>\n",
       "      <td>Matteo</td>\n",
       "      <td>Fantastic!!!</td>\n",
       "      <td>I've never seen something like that, I am a bi...</td>\n",
       "      <td>5.0</td>\n",
       "      <td>0.9130</td>\n",
       "      <td>fortemente positiva</td>\n",
       "    </tr>\n",
       "    <tr>\n",
       "      <th>9</th>\n",
       "      <td>Amazon Customer</td>\n",
       "      <td>Five Stars</td>\n",
       "      <td>I tried the app and it's the best one for my d...</td>\n",
       "      <td>5.0</td>\n",
       "      <td>0.7830</td>\n",
       "      <td>fortemente positiva</td>\n",
       "    </tr>\n",
       "    <tr>\n",
       "      <th>10</th>\n",
       "      <td>aisha</td>\n",
       "      <td>Great but needs improvement</td>\n",
       "      <td>Great app if it just don't shut itself off tim...</td>\n",
       "      <td>4.0</td>\n",
       "      <td>0.8074</td>\n",
       "      <td>fortemente positiva</td>\n",
       "    </tr>\n",
       "    <tr>\n",
       "      <th>11</th>\n",
       "      <td>Rebekah Bertram</td>\n",
       "      <td>love it</td>\n",
       "      <td>my kids do this woth me. i kove it. great musi...</td>\n",
       "      <td>5.0</td>\n",
       "      <td>0.8622</td>\n",
       "      <td>fortemente positiva</td>\n",
       "    </tr>\n",
       "  </tbody>\n",
       "</table>\n",
       "</div>"
      ],
      "text/plain": [
       "                    Username                            title  \\\n",
       "0            Amazon Customer         Great With Modifications   \n",
       "1              Janey_monster  Won't take 'Yes' for an answer!   \n",
       "2               Gary Mercado  Won't respond to my yes command   \n",
       "3            Amazon Customer                        Excellent   \n",
       "4   Linda Charlton-Gunderson       Does not always hear ready   \n",
       "5             Mallory galvin                         Terrible   \n",
       "6            Amazon Customer                      Challenging   \n",
       "7                 jenisse210      Great idea but doesn't work   \n",
       "8                     Matteo                     Fantastic!!!   \n",
       "9            Amazon Customer                       Five Stars   \n",
       "10                     aisha      Great but needs improvement   \n",
       "11           Rebekah Bertram                          love it   \n",
       "\n",
       "                                               review  rating  \\\n",
       "0   The recovery times are longer as some have men...     4.5   \n",
       "1   Just like another reviewer said. Between exerc...     2.0   \n",
       "2   The skill won't respond to the yes command and...     2.0   \n",
       "3   So far I’m happy of this new Skill. I don’t ha...     5.0   \n",
       "4   I said ready and she would shut off. But when ...     2.0   \n",
       "5   Slow and annoying. I don't need 30 seconds to ...     1.0   \n",
       "6   I love bodyweight workouts and they look well-...     5.0   \n",
       "7   I've tried to start twice now and I get to sta...     2.0   \n",
       "8   I've never seen something like that, I am a bi...     5.0   \n",
       "9   I tried the app and it's the best one for my d...     5.0   \n",
       "10  Great app if it just don't shut itself off tim...     4.0   \n",
       "11  my kids do this woth me. i kove it. great musi...     5.0   \n",
       "\n",
       "    sentiment score      sentiment label  \n",
       "0            0.9541  fortemente positiva  \n",
       "1            0.8071  fortemente positiva  \n",
       "2            0.8591  fortemente positiva  \n",
       "3            0.7566  fortemente positiva  \n",
       "4            0.7303       molto positiva  \n",
       "5           -0.7003       molto negativa  \n",
       "6            0.7964  fortemente positiva  \n",
       "7            0.8139  fortemente positiva  \n",
       "8            0.9130  fortemente positiva  \n",
       "9            0.7830  fortemente positiva  \n",
       "10           0.8074  fortemente positiva  \n",
       "11           0.8622  fortemente positiva  "
      ]
     },
     "execution_count": 20,
     "metadata": {},
     "output_type": "execute_result"
    }
   ],
   "source": [
    "reviews['sentiment label'] = reviews['sentiment score'].apply(lambda sentiment: sentiment_to_label(sentiment))\n",
    "reviews.head(50)"
   ]
  },
  {
   "cell_type": "markdown",
   "metadata": {
    "colab_type": "text",
    "id": "c6g31Lm1jx5c"
   },
   "source": [
    "Tutte le recensioni positive sono state classificate con la giusta intensità, mentre per alcune negative la sentiment analysis è stata eseguita in maniera un po' troppo ottimistica. Vediamo una di queste recensioni."
   ]
  },
  {
   "cell_type": "code",
   "execution_count": 21,
   "metadata": {
    "colab": {
     "base_uri": "https://localhost:8080/",
     "height": 54
    },
    "colab_type": "code",
    "id": "pLECv0sgakD4",
    "outputId": "31c8ed7f-4d5f-46ae-a1f8-45ad3753e80b"
   },
   "outputs": [
    {
     "data": {
      "text/plain": [
       "'Just like another reviewer said. Between exercises, when it asks if your ready to start, I say yes and it says \"okay I\\'ll keep that in mind for next time.... Blah blah blah...\" and closes me out before I finish my set. If not for that, and maybe also not knowing what a \\'burpee\\' is (perhaps I\\'m a bit behind on exercise vocabulary... But a description option would be nice!), I\\'d rate 5. Please fix?? (P. S. I have an echo dot 2nd gen)'"
      ]
     },
     "execution_count": 21,
     "metadata": {},
     "output_type": "execute_result"
    }
   ],
   "source": [
    "reviews.loc[1].review"
   ]
  },
  {
   "cell_type": "markdown",
   "metadata": {
    "colab_type": "text",
    "id": "hYGbC35SkIcF"
   },
   "source": [
    "La recensione riporta:\n",
    "<br><br>\n",
    "*'Proprio come ha detto un altro recensore. Tra un esercizio e l'altro, quando ti chiede se sei pronto per iniziare, io dico di sì e dice \"okay, tienilo a mente per la prossima volta .... Blah blah blah ...\" e mi chiude prima che finisca il mio esercizio. Se non fosse per quello, e forse anche non sapendo cosa sia un \"burpee\" (forse sono un po 'indietro sul vocabolario degli esercizi ... Ma una opzione di descrizione sarebbe bella!), Il mio voto è 5. Per favore risolvete ?? (P. S. Ho un Echo  Dot di 2a generazione) '*\n",
    "<br><br>\n",
    "Come vedi non sono presenti parole che lascino intendere un sentiment negativo, mentre ce ne sono diverse positive (bella, il mio voto è 5, okay)."
   ]
  },
  {
   "cell_type": "markdown",
   "metadata": {
    "colab_type": "text",
    "id": "hFzjPHKdMc6I"
   },
   "source": [
    "## Link utili\n",
    "\n",
    "- http://www.nltk.org/howto/sentiment.html"
   ]
  }
 ],
 "metadata": {
  "colab": {
   "include_colab_link": true,
   "name": "sentiment_analysis_nltk.ipynb",
   "provenance": [],
   "version": "0.3.2"
  },
  "kernelspec": {
   "display_name": "Python 3 (ipykernel)",
   "language": "python",
   "name": "python3"
  },
  "language_info": {
   "codemirror_mode": {
    "name": "ipython",
    "version": 3
   },
   "file_extension": ".py",
   "mimetype": "text/x-python",
   "name": "python",
   "nbconvert_exporter": "python",
   "pygments_lexer": "ipython3",
   "version": "3.9.7"
  },
  "toc": {
   "base_numbering": 1,
   "nav_menu": {},
   "number_sections": true,
   "sideBar": true,
   "skip_h1_title": false,
   "title_cell": "Table of Contents",
   "title_sidebar": "Contents",
   "toc_cell": false,
   "toc_position": {},
   "toc_section_display": true,
   "toc_window_display": false
  }
 },
 "nbformat": 4,
 "nbformat_minor": 1
}
