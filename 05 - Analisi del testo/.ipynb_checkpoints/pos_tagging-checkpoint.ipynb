{
 "cells": [
  {
   "cell_type": "markdown",
   "metadata": {
    "colab_type": "text",
    "id": "view-in-github"
   },
   "source": [
    "<a href=\"https://colab.research.google.com/github/ProfAI/nlp00/blob/master/05%20-%20Analisi%20del%20testo/pos_tagging.ipynb\" target=\"_parent\"><img src=\"https://colab.research.google.com/assets/colab-badge.svg\" alt=\"Open In Colab\"/></a>"
   ]
  },
  {
   "cell_type": "markdown",
   "metadata": {
    "colab_type": "text",
    "id": "tu-7KNu123zC"
   },
   "source": [
    "# Part-of-speech Tagging or LEMMATIZATION\n",
    "Il part-of-speech tagging è un processo che consiste nell'identificazione del tipo delle parole del testo. I tipi solitamente possono essere raggruppati in queste macro categorie.\n",
    "<br>\n",
    "<table>\n",
    "  <tr>\n",
    "    <th>Tipo</th>\n",
    "    <th>Tag</th> \n",
    "    <th>Esempi</th>\n",
    "  </tr>\n",
    "    <tr>\n",
    "    <th>Aggettivi</th>\n",
    "    <th>ADJ</th> \n",
    "    <th>nuovo, buono, alto</th>\n",
    "  </tr>\n",
    "    <tr>\n",
    "      <th>Preposizione</th>\n",
    "      <th>ADP</th> \n",
    "      <th>su, di, a, con, da</th>\n",
    "  </tr>\n",
    "  <tr>\n",
    "      <th>Avverbi</th>\n",
    "      <th>ADV</th> \n",
    "      <th>presto, adesso, davvero</th>\n",
    "  </tr>\n",
    "  <tr>\n",
    "      <th>Congiunzioni</th>\n",
    "      <th>CONJ</th> \n",
    "      <th>e, o, ma, mentre, se</th>\n",
    "  </tr>\n",
    "  <tr>\n",
    "      <th>Articoli determinativi</th>\n",
    "      <th>DET</th> \n",
    "      <th>il, la, tutti, alcuni</th>\n",
    "  </tr>\n",
    "  <tr>\n",
    "      <th>Nomi</th>\n",
    "      <th>NOUN</th> \n",
    "      <th>casa, cane, uomo</th>\n",
    "  </tr>\n",
    "  <tr>\n",
    "      <th>Numeri</th>\n",
    "      <th>NUM</th> \n",
    "      <th>10, cento, 13:30</th>\n",
    "  </tr>\n",
    "  <tr>\n",
    "      <th>Particella</th>\n",
    "      <th>PRT</th> \n",
    "      <th>ti, ci, vi</th>\n",
    "  </tr>\n",
    "  <tr>\n",
    "      <th>Pronomi</th>\n",
    "      <th>PRON</th> \n",
    "      <th>Lei, esso, io, egli</th>\n",
    "  </tr>\n",
    "   <tr>\n",
    "      <th>Verbi</th>\n",
    "      <th>VERB</th> \n",
    "      <th>ha, era, potrebbe</th>\n",
    "  </tr>\n",
    "    <tr>\n",
    "      <th>Punteggiatura</th>\n",
    "      <th>.</th> \n",
    "      <th>. , ! ? : ; </th>\n",
    "  </tr>\n",
    "    <tr>\n",
    "      <th>Altro</th>\n",
    "      <th>X</th> \n",
    "      <th>lol, xke, cmq</th>\n",
    "  </tr>\n",
    "  </table>"
   ]
  },
  {
   "cell_type": "markdown",
   "metadata": {
    "colab_type": "text",
    "id": "mYYqJTg0X0Dc"
   },
   "source": [
    "Oltre a queste, esistono anche delle microcategorie che tengono conto di ulteriori informazioni, come tempo di un verbo, genere di una parola ecc.."
   ]
  },
  {
   "cell_type": "markdown",
   "metadata": {
    "colab_type": "text",
    "id": "IQP6L-05_-4j"
   },
   "source": [
    "## POS Tagging con NLTK\n",
    "Vediamo come eseguire il POS Tagging con NLTK, cominicamo importando il modulo e scaricando il modulo 'punkt', per eseguire il tagging dobbiamo scaricare anche il modulo 'averaged_perceptron_tagger'. Scarichiamo anche il modulo 'tagset' che non ci servirà per eseguire il tagging ma per ottenere lista e descrizione dei tag di NLTK."
   ]
  },
  {
   "cell_type": "code",
   "execution_count": 1,
   "metadata": {
    "colab": {
     "base_uri": "https://localhost:8080/",
     "height": 137
    },
    "colab_type": "code",
    "id": "Zg8pUWwB_xQH",
    "outputId": "cd6adf29-714d-49f8-92b3-8cd4fd7efa6d"
   },
   "outputs": [
    {
     "name": "stderr",
     "output_type": "stream",
     "text": [
      "[nltk_data] Downloading package punkt to\n",
      "[nltk_data]     /Users/adrianacuppuleri/nltk_data...\n",
      "[nltk_data]   Package punkt is already up-to-date!\n",
      "[nltk_data] Downloading package averaged_perceptron_tagger to\n",
      "[nltk_data]     /Users/adrianacuppuleri/nltk_data...\n",
      "[nltk_data]   Unzipping taggers/averaged_perceptron_tagger.zip.\n"
     ]
    },
    {
     "data": {
      "text/plain": [
       "True"
      ]
     },
     "execution_count": 1,
     "metadata": {},
     "output_type": "execute_result"
    }
   ],
   "source": [
    "import nltk\n",
    "nltk.download('punkt')\n",
    "nltk.download('averaged_perceptron_tagger')"
   ]
  },
  {
   "cell_type": "markdown",
   "metadata": {
    "colab_type": "text",
    "id": "65BJXFd7_UrJ"
   },
   "source": [
    "Possiamo eseguire il POS Tagging con NLTK usando la funzione **pos_tag**"
   ]
  },
  {
   "cell_type": "code",
   "execution_count": 3,
   "metadata": {
    "colab": {
     "base_uri": "https://localhost:8080/",
     "height": 188
    },
    "colab_type": "code",
    "id": "k2Ol04XJ2j6T",
    "outputId": "3bcee3e7-e367-4806-be64-d868d089e6e7"
   },
   "outputs": [
    {
     "name": "stdout",
     "output_type": "stream",
     "text": [
      "<class 'list'>\n",
      "TOKEN\t\tTAG\n",
      "Every\t\tDT\n",
      "day\t\tNN\n",
      "is\t\tVBZ\n",
      "a\t\tDT\n",
      "new\t\tJJ\n",
      "day\t\tNN\n",
      "for\t\tIN\n",
      "me\t\tPRP\n"
     ]
    }
   ],
   "source": [
    "text = \"Every day is a new day for me\"\n",
    "\n",
    "tokens = nltk.word_tokenize(text)\n",
    "\n",
    "tags = nltk.pos_tag(tokens)\n",
    "\n",
    "print(type(tags))\n",
    "print(\"TOKEN\\t\\tTAG\")\n",
    "\n",
    "for tag in tags:\n",
    "  print(tag[0]+\"\\t\\t\"+tag[1])"
   ]
  },
  {
   "cell_type": "markdown",
   "metadata": {
    "colab_type": "text",
    "id": "CygsJyNrDLwm"
   },
   "source": [
    "I tags che utilizza NLTK sono diversi da quelli della nostra tabella e sono davvero tanti, possiamo accedere alla lista completa in ordine alfabetico con tanto di descrizione usando la funzione *help.upenn_tagset()*."
   ]
  },
  {
   "cell_type": "code",
   "execution_count": 6,
   "metadata": {
    "colab": {
     "base_uri": "https://localhost:8080/",
     "height": 2403
    },
    "colab_type": "code",
    "id": "H6JGyGH6C5Fp",
    "outputId": "a3594e8b-0b61-4e12-cec3-ab153e730688"
   },
   "outputs": [
    {
     "name": "stderr",
     "output_type": "stream",
     "text": [
      "[nltk_data] Downloading package tagsets to\n",
      "[nltk_data]     /Users/adrianacuppuleri/nltk_data...\n"
     ]
    },
    {
     "name": "stdout",
     "output_type": "stream",
     "text": [
      "$: dollar\n",
      "    $ -$ --$ A$ C$ HK$ M$ NZ$ S$ U.S.$ US$\n",
      "'': closing quotation mark\n",
      "    ' ''\n",
      "(: opening parenthesis\n",
      "    ( [ {\n",
      "): closing parenthesis\n",
      "    ) ] }\n",
      ",: comma\n",
      "    ,\n",
      "--: dash\n",
      "    --\n",
      ".: sentence terminator\n",
      "    . ! ?\n",
      ":: colon or ellipsis\n",
      "    : ; ...\n",
      "CC: conjunction, coordinating\n",
      "    & 'n and both but either et for less minus neither nor or plus so\n",
      "    therefore times v. versus vs. whether yet\n",
      "CD: numeral, cardinal\n",
      "    mid-1890 nine-thirty forty-two one-tenth ten million 0.5 one forty-\n",
      "    seven 1987 twenty '79 zero two 78-degrees eighty-four IX '60s .025\n",
      "    fifteen 271,124 dozen quintillion DM2,000 ...\n",
      "DT: determiner\n",
      "    all an another any both del each either every half la many much nary\n",
      "    neither no some such that the them these this those\n",
      "EX: existential there\n",
      "    there\n",
      "FW: foreign word\n",
      "    gemeinschaft hund ich jeux habeas Haementeria Herr K'ang-si vous\n",
      "    lutihaw alai je jour objets salutaris fille quibusdam pas trop Monte\n",
      "    terram fiche oui corporis ...\n",
      "IN: preposition or conjunction, subordinating\n",
      "    astride among uppon whether out inside pro despite on by throughout\n",
      "    below within for towards near behind atop around if like until below\n",
      "    next into if beside ...\n",
      "JJ: adjective or numeral, ordinal\n",
      "    third ill-mannered pre-war regrettable oiled calamitous first separable\n",
      "    ectoplasmic battery-powered participatory fourth still-to-be-named\n",
      "    multilingual multi-disciplinary ...\n",
      "JJR: adjective, comparative\n",
      "    bleaker braver breezier briefer brighter brisker broader bumper busier\n",
      "    calmer cheaper choosier cleaner clearer closer colder commoner costlier\n",
      "    cozier creamier crunchier cuter ...\n",
      "JJS: adjective, superlative\n",
      "    calmest cheapest choicest classiest cleanest clearest closest commonest\n",
      "    corniest costliest crassest creepiest crudest cutest darkest deadliest\n",
      "    dearest deepest densest dinkiest ...\n",
      "LS: list item marker\n",
      "    A A. B B. C C. D E F First G H I J K One SP-44001 SP-44002 SP-44005\n",
      "    SP-44007 Second Third Three Two * a b c d first five four one six three\n",
      "    two\n",
      "MD: modal auxiliary\n",
      "    can cannot could couldn't dare may might must need ought shall should\n",
      "    shouldn't will would\n",
      "NN: noun, common, singular or mass\n",
      "    common-carrier cabbage knuckle-duster Casino afghan shed thermostat\n",
      "    investment slide humour falloff slick wind hyena override subhumanity\n",
      "    machinist ...\n",
      "NNP: noun, proper, singular\n",
      "    Motown Venneboerger Czestochwa Ranzer Conchita Trumplane Christos\n",
      "    Oceanside Escobar Kreisler Sawyer Cougar Yvette Ervin ODI Darryl CTCA\n",
      "    Shannon A.K.C. Meltex Liverpool ...\n",
      "NNPS: noun, proper, plural\n",
      "    Americans Americas Amharas Amityvilles Amusements Anarcho-Syndicalists\n",
      "    Andalusians Andes Andruses Angels Animals Anthony Antilles Antiques\n",
      "    Apache Apaches Apocrypha ...\n",
      "NNS: noun, common, plural\n",
      "    undergraduates scotches bric-a-brac products bodyguards facets coasts\n",
      "    divestitures storehouses designs clubs fragrances averages\n",
      "    subjectivists apprehensions muses factory-jobs ...\n",
      "PDT: pre-determiner\n",
      "    all both half many quite such sure this\n",
      "POS: genitive marker\n",
      "    ' 's\n",
      "PRP: pronoun, personal\n",
      "    hers herself him himself hisself it itself me myself one oneself ours\n",
      "    ourselves ownself self she thee theirs them themselves they thou thy us\n",
      "PRP$: pronoun, possessive\n",
      "    her his mine my our ours their thy your\n",
      "RB: adverb\n",
      "    occasionally unabatingly maddeningly adventurously professedly\n",
      "    stirringly prominently technologically magisterially predominately\n",
      "    swiftly fiscally pitilessly ...\n",
      "RBR: adverb, comparative\n",
      "    further gloomier grander graver greater grimmer harder harsher\n",
      "    healthier heavier higher however larger later leaner lengthier less-\n",
      "    perfectly lesser lonelier longer louder lower more ...\n",
      "RBS: adverb, superlative\n",
      "    best biggest bluntest earliest farthest first furthest hardest\n",
      "    heartiest highest largest least less most nearest second tightest worst\n",
      "RP: particle\n",
      "    aboard about across along apart around aside at away back before behind\n",
      "    by crop down ever fast for forth from go high i.e. in into just later\n",
      "    low more off on open out over per pie raising start teeth that through\n",
      "    under unto up up-pp upon whole with you\n",
      "SYM: symbol\n",
      "    % & ' '' ''. ) ). * + ,. < = > @ A[fj] U.S U.S.S.R * ** ***\n",
      "TO: \"to\" as preposition or infinitive marker\n",
      "    to\n",
      "UH: interjection\n",
      "    Goodbye Goody Gosh Wow Jeepers Jee-sus Hubba Hey Kee-reist Oops amen\n",
      "    huh howdy uh dammit whammo shucks heck anyways whodunnit honey golly\n",
      "    man baby diddle hush sonuvabitch ...\n",
      "VB: verb, base form\n",
      "    ask assemble assess assign assume atone attention avoid bake balkanize\n",
      "    bank begin behold believe bend benefit bevel beware bless boil bomb\n",
      "    boost brace break bring broil brush build ...\n",
      "VBD: verb, past tense\n",
      "    dipped pleaded swiped regummed soaked tidied convened halted registered\n",
      "    cushioned exacted snubbed strode aimed adopted belied figgered\n",
      "    speculated wore appreciated contemplated ...\n",
      "VBG: verb, present participle or gerund\n",
      "    telegraphing stirring focusing angering judging stalling lactating\n",
      "    hankerin' alleging veering capping approaching traveling besieging\n",
      "    encrypting interrupting erasing wincing ...\n",
      "VBN: verb, past participle\n",
      "    multihulled dilapidated aerosolized chaired languished panelized used\n",
      "    experimented flourished imitated reunifed factored condensed sheared\n",
      "    unsettled primed dubbed desired ...\n",
      "VBP: verb, present tense, not 3rd person singular\n",
      "    predominate wrap resort sue twist spill cure lengthen brush terminate\n",
      "    appear tend stray glisten obtain comprise detest tease attract\n",
      "    emphasize mold postpone sever return wag ...\n",
      "VBZ: verb, present tense, 3rd person singular\n",
      "    bases reconstructs marks mixes displeases seals carps weaves snatches\n",
      "    slumps stretches authorizes smolders pictures emerges stockpiles\n",
      "    seduces fizzes uses bolsters slaps speaks pleads ...\n",
      "WDT: WH-determiner\n",
      "    that what whatever which whichever\n",
      "WP: WH-pronoun\n",
      "    that what whatever whatsoever which who whom whosoever\n",
      "WP$: WH-pronoun, possessive\n",
      "    whose\n",
      "WRB: Wh-adverb\n",
      "    how however whence whenever where whereby whereever wherein whereof why\n",
      "``: opening quotation mark\n",
      "    ` ``\n"
     ]
    },
    {
     "name": "stderr",
     "output_type": "stream",
     "text": [
      "[nltk_data]   Unzipping help/tagsets.zip.\n"
     ]
    }
   ],
   "source": [
    "nltk.download(\"tagsets\")\n",
    "nltk.help.upenn_tagset()"
   ]
  },
  {
   "cell_type": "markdown",
   "metadata": {
    "colab_type": "text",
    "id": "8eXjlzTVEXuX"
   },
   "source": [
    "Il POS tagging di NLTK supporta solo la lingua inglese."
   ]
  },
  {
   "cell_type": "code",
   "execution_count": 7,
   "metadata": {},
   "outputs": [],
   "source": [
    "text = \"Deep learning (also known as deep structured learning) is part of a broader family of machine learning methods based on artificial neural networks with representation learning. Learning can be supervised, semi-supervised or unsupervised\""
   ]
  },
  {
   "cell_type": "code",
   "execution_count": 17,
   "metadata": {},
   "outputs": [],
   "source": [
    "tokens = nltk.word_tokenize(text)"
   ]
  },
  {
   "cell_type": "code",
   "execution_count": 18,
   "metadata": {},
   "outputs": [],
   "source": [
    "tags = nltk.pos_tag(tokens)"
   ]
  },
  {
   "cell_type": "code",
   "execution_count": 19,
   "metadata": {},
   "outputs": [
    {
     "data": {
      "text/plain": [
       "[('Deep', 'JJ'),\n",
       " ('learning', 'NN'),\n",
       " ('(', '('),\n",
       " ('also', 'RB'),\n",
       " ('known', 'VBN'),\n",
       " ('as', 'IN'),\n",
       " ('deep', 'JJ'),\n",
       " ('structured', 'VBD'),\n",
       " ('learning', 'NN'),\n",
       " (')', ')'),\n",
       " ('is', 'VBZ'),\n",
       " ('part', 'NN'),\n",
       " ('of', 'IN'),\n",
       " ('a', 'DT'),\n",
       " ('broader', 'JJR'),\n",
       " ('family', 'NN'),\n",
       " ('of', 'IN'),\n",
       " ('machine', 'NN'),\n",
       " ('learning', 'VBG'),\n",
       " ('methods', 'NNS'),\n",
       " ('based', 'VBN'),\n",
       " ('on', 'IN'),\n",
       " ('artificial', 'JJ'),\n",
       " ('neural', 'JJ'),\n",
       " ('networks', 'NNS'),\n",
       " ('with', 'IN'),\n",
       " ('representation', 'NN'),\n",
       " ('learning', 'NN'),\n",
       " ('.', '.'),\n",
       " ('Learning', 'VBG'),\n",
       " ('can', 'MD'),\n",
       " ('be', 'VB'),\n",
       " ('supervised', 'VBN'),\n",
       " (',', ','),\n",
       " ('semi-supervised', 'JJ'),\n",
       " ('or', 'CC'),\n",
       " ('unsupervised', 'JJ')]"
      ]
     },
     "execution_count": 19,
     "metadata": {},
     "output_type": "execute_result"
    }
   ],
   "source": [
    "tags"
   ]
  },
  {
   "cell_type": "code",
   "execution_count": 20,
   "metadata": {},
   "outputs": [],
   "source": [
    "tag = [token+\"(\"+tag+\")\" for token, tag in tags]"
   ]
  },
  {
   "cell_type": "code",
   "execution_count": 21,
   "metadata": {},
   "outputs": [
    {
     "data": {
      "text/plain": [
       "['Deep(JJ)',\n",
       " 'learning(NN)',\n",
       " '((()',\n",
       " 'also(RB)',\n",
       " 'known(VBN)',\n",
       " 'as(IN)',\n",
       " 'deep(JJ)',\n",
       " 'structured(VBD)',\n",
       " 'learning(NN)',\n",
       " ')())',\n",
       " 'is(VBZ)',\n",
       " 'part(NN)',\n",
       " 'of(IN)',\n",
       " 'a(DT)',\n",
       " 'broader(JJR)',\n",
       " 'family(NN)',\n",
       " 'of(IN)',\n",
       " 'machine(NN)',\n",
       " 'learning(VBG)',\n",
       " 'methods(NNS)',\n",
       " 'based(VBN)',\n",
       " 'on(IN)',\n",
       " 'artificial(JJ)',\n",
       " 'neural(JJ)',\n",
       " 'networks(NNS)',\n",
       " 'with(IN)',\n",
       " 'representation(NN)',\n",
       " 'learning(NN)',\n",
       " '.(.)',\n",
       " 'Learning(VBG)',\n",
       " 'can(MD)',\n",
       " 'be(VB)',\n",
       " 'supervised(VBN)',\n",
       " ',(,)',\n",
       " 'semi-supervised(JJ)',\n",
       " 'or(CC)',\n",
       " 'unsupervised(JJ)']"
      ]
     },
     "execution_count": 21,
     "metadata": {},
     "output_type": "execute_result"
    }
   ],
   "source": [
    "tag"
   ]
  },
  {
   "cell_type": "code",
   "execution_count": 23,
   "metadata": {},
   "outputs": [
    {
     "data": {
      "text/plain": [
       "'Deep(JJ) learning(NN) ((() also(RB) known(VBN) as(IN) deep(JJ) structured(VBD) learning(NN) )()) is(VBZ) part(NN) of(IN) a(DT) broader(JJR) family(NN) of(IN) machine(NN) learning(VBG) methods(NNS) based(VBN) on(IN) artificial(JJ) neural(JJ) networks(NNS) with(IN) representation(NN) learning(NN) .(.) Learning(VBG) can(MD) be(VB) supervised(VBN) ,(,) semi-supervised(JJ) or(CC) unsupervised(JJ)'"
      ]
     },
     "execution_count": 23,
     "metadata": {},
     "output_type": "execute_result"
    }
   ],
   "source": [
    "\" \".join(tag)"
   ]
  },
  {
   "cell_type": "markdown",
   "metadata": {
    "colab_type": "text",
    "id": "hjAONRgnBUs0"
   },
   "source": [
    "## POS Tagging con Spacy\n",
    "\n",
    "Passiamo Spacy, importiamo il modulo per la lingua inglese."
   ]
  },
  {
   "cell_type": "code",
   "execution_count": 24,
   "metadata": {
    "colab": {},
    "colab_type": "code",
    "id": "TJS-Kuit_r7p"
   },
   "outputs": [],
   "source": [
    "import spacy\n",
    "\n",
    "nlp = spacy.load(\"en_core_web_sm\")"
   ]
  },
  {
   "cell_type": "markdown",
   "metadata": {
    "colab_type": "text",
    "id": "ixTGj0NUEuoA"
   },
   "source": [
    "anche nel caso del POS Tagging non dobbiamo fare nulla, dato che anche questa informazione viene elaborata durante il processing del documento. Possiamo accedere al tag contenente la macro categoria della parola tramite l'attributo *pos_* (e anche in questo caso fai attenzione all'utlizzo del trattino basso se non vuoi ottenere l'hash), mentre possiamo accedere al tag più specifico usando l'attributo *.tag*."
   ]
  },
  {
   "cell_type": "code",
   "execution_count": 25,
   "metadata": {
    "colab": {
     "base_uri": "https://localhost:8080/",
     "height": 171
    },
    "colab_type": "code",
    "id": "PyiHTEimBgIR",
    "outputId": "ef9ad6d0-2e08-46a8-8ce1-a641543e1be3"
   },
   "outputs": [
    {
     "name": "stdout",
     "output_type": "stream",
     "text": [
      "TOKEN\t\tPOS\t\tTAG\n",
      "Every\t\tDET\t\tDT\n",
      "day\t\tNOUN\t\tNN\n",
      "is\t\tAUX\t\tVBZ\n",
      "a\t\tDET\t\tDT\n",
      "new\t\tADJ\t\tJJ\n",
      "day\t\tNOUN\t\tNN\n",
      "for\t\tADP\t\tIN\n",
      "me\t\tPRON\t\tPRP\n"
     ]
    }
   ],
   "source": [
    "doc = nlp(\"Every day is a new day for me\")\n",
    "\n",
    "print(\"TOKEN\\t\\tPOS\\t\\tTAG\")\n",
    "\n",
    "for token in doc:\n",
    "  print(token.text+\"\\t\\t\"+token.pos_+\"\\t\\t\"+token.tag_)"
   ]
  },
  {
   "cell_type": "markdown",
   "metadata": {
    "colab_type": "text",
    "id": "QhuCnyKfE_OJ"
   },
   "source": [
    "[A questo link](https://spacy.io/api/annotation) possiamo trovare la descrizione di ogni tag, Spacy ci viene in aiut con la funzione *explain(tag)* che possiamo utilizzare per ottenere la descrizione relativa ad un tag."
   ]
  },
  {
   "cell_type": "code",
   "execution_count": 27,
   "metadata": {},
   "outputs": [
    {
     "data": {
      "text/plain": [
       "'Every'"
      ]
     },
     "execution_count": 27,
     "metadata": {},
     "output_type": "execute_result"
    }
   ],
   "source": [
    "doc[0].text"
   ]
  },
  {
   "cell_type": "code",
   "execution_count": 28,
   "metadata": {},
   "outputs": [
    {
     "data": {
      "text/plain": [
       "'DT'"
      ]
     },
     "execution_count": 28,
     "metadata": {},
     "output_type": "execute_result"
    }
   ],
   "source": [
    "doc[0].tag_"
   ]
  },
  {
   "cell_type": "code",
   "execution_count": 29,
   "metadata": {},
   "outputs": [
    {
     "data": {
      "text/plain": [
       "'DET'"
      ]
     },
     "execution_count": 29,
     "metadata": {},
     "output_type": "execute_result"
    }
   ],
   "source": [
    "doc[0].pos_"
   ]
  },
  {
   "cell_type": "code",
   "execution_count": 30,
   "metadata": {},
   "outputs": [
    {
     "data": {
      "text/plain": [
       "'pronoun, personal'"
      ]
     },
     "execution_count": 30,
     "metadata": {},
     "output_type": "execute_result"
    }
   ],
   "source": [
    "spacy.explain(token.tag_)"
   ]
  },
  {
   "cell_type": "code",
   "execution_count": 26,
   "metadata": {
    "colab": {
     "base_uri": "https://localhost:8080/",
     "height": 191
    },
    "colab_type": "code",
    "id": "sVy6Y3MbccHc",
    "outputId": "a06b41b9-0809-4faf-b6fb-1d56d06c4661",
    "scrolled": true
   },
   "outputs": [
    {
     "name": "stdout",
     "output_type": "stream",
     "text": [
      "TOKEN\t\tPOS\t\tTAG\t\tDESCRIZIONE\n",
      "Every\t\tDET\t\tDT\t\tdeterminer\n",
      "day\t\tNOUN\t\tNN\t\tnoun, singular or mass\n",
      "is\t\tAUX\t\tVBZ\t\tverb, 3rd person singular present\n",
      "a\t\tDET\t\tDT\t\tdeterminer\n",
      "new\t\tADJ\t\tJJ\t\tadjective (English), other noun-modifier (Chinese)\n",
      "day\t\tNOUN\t\tNN\t\tnoun, singular or mass\n",
      "for\t\tADP\t\tIN\t\tconjunction, subordinating or preposition\n",
      "me\t\tPRON\t\tPRP\t\tpronoun, personal\n"
     ]
    }
   ],
   "source": [
    "doc = nlp(\"Every day is a new day for me\")\n",
    "\n",
    "print(\"TOKEN\\t\\tPOS\\t\\tTAG\\t\\tDESCRIZIONE\")\n",
    "\n",
    "for token in doc:\n",
    "  print(token.text+\"\\t\\t\"+token.pos_+\"\\t\\t\"+token.tag_+\"\\t\\t\"+spacy.explain(token.tag_))"
   ]
  },
  {
   "cell_type": "markdown",
   "metadata": {
    "colab_type": "text",
    "id": "hNX3wsCUdSSL"
   },
   "source": [
    "Proviamo ora con un esempio in italiano, scarichiamo il modulo per la lingua italiana."
   ]
  },
  {
   "cell_type": "code",
   "execution_count": 31,
   "metadata": {
    "colab": {
     "base_uri": "https://localhost:8080/",
     "height": 260
    },
    "colab_type": "code",
    "id": "Ozz9amP8FRHh",
    "outputId": "a67af3e2-080f-4a0e-9e88-30f213fa90f5"
   },
   "outputs": [
    {
     "name": "stdout",
     "output_type": "stream",
     "text": [
      "Collecting it-core-news-sm==3.4.0\n",
      "  Downloading https://github.com/explosion/spacy-models/releases/download/it_core_news_sm-3.4.0/it_core_news_sm-3.4.0-py3-none-any.whl (13.0 MB)\n",
      "\u001b[K     |████████████████████████████████| 13.0 MB 6.0 MB/s eta 0:00:01     |██████████████████████████▍     | 10.7 MB 6.0 MB/s eta 0:00:01\n",
      "\u001b[?25hRequirement already satisfied: spacy<3.5.0,>=3.4.0 in /opt/anaconda3/lib/python3.9/site-packages (from it-core-news-sm==3.4.0) (3.4.1)\n",
      "Requirement already satisfied: wasabi<1.1.0,>=0.9.1 in /opt/anaconda3/lib/python3.9/site-packages (from spacy<3.5.0,>=3.4.0->it-core-news-sm==3.4.0) (0.10.1)\n",
      "Requirement already satisfied: numpy>=1.15.0 in /opt/anaconda3/lib/python3.9/site-packages (from spacy<3.5.0,>=3.4.0->it-core-news-sm==3.4.0) (1.20.3)\n",
      "Requirement already satisfied: langcodes<4.0.0,>=3.2.0 in /opt/anaconda3/lib/python3.9/site-packages (from spacy<3.5.0,>=3.4.0->it-core-news-sm==3.4.0) (3.3.0)\n",
      "Requirement already satisfied: typer<0.5.0,>=0.3.0 in /opt/anaconda3/lib/python3.9/site-packages (from spacy<3.5.0,>=3.4.0->it-core-news-sm==3.4.0) (0.4.2)\n",
      "Requirement already satisfied: packaging>=20.0 in /opt/anaconda3/lib/python3.9/site-packages (from spacy<3.5.0,>=3.4.0->it-core-news-sm==3.4.0) (21.0)\n",
      "Requirement already satisfied: thinc<8.2.0,>=8.1.0 in /opt/anaconda3/lib/python3.9/site-packages (from spacy<3.5.0,>=3.4.0->it-core-news-sm==3.4.0) (8.1.0)\n",
      "Requirement already satisfied: murmurhash<1.1.0,>=0.28.0 in /opt/anaconda3/lib/python3.9/site-packages (from spacy<3.5.0,>=3.4.0->it-core-news-sm==3.4.0) (1.0.8)\n",
      "Requirement already satisfied: preshed<3.1.0,>=3.0.2 in /opt/anaconda3/lib/python3.9/site-packages (from spacy<3.5.0,>=3.4.0->it-core-news-sm==3.4.0) (3.0.7)\n",
      "Requirement already satisfied: catalogue<2.1.0,>=2.0.6 in /opt/anaconda3/lib/python3.9/site-packages (from spacy<3.5.0,>=3.4.0->it-core-news-sm==3.4.0) (2.0.8)\n",
      "Requirement already satisfied: pathy>=0.3.5 in /opt/anaconda3/lib/python3.9/site-packages (from spacy<3.5.0,>=3.4.0->it-core-news-sm==3.4.0) (0.6.2)\n",
      "Requirement already satisfied: setuptools in /opt/anaconda3/lib/python3.9/site-packages (from spacy<3.5.0,>=3.4.0->it-core-news-sm==3.4.0) (58.0.4)\n",
      "Requirement already satisfied: tqdm<5.0.0,>=4.38.0 in /opt/anaconda3/lib/python3.9/site-packages (from spacy<3.5.0,>=3.4.0->it-core-news-sm==3.4.0) (4.62.3)\n",
      "Requirement already satisfied: pydantic!=1.8,!=1.8.1,<1.10.0,>=1.7.4 in /opt/anaconda3/lib/python3.9/site-packages (from spacy<3.5.0,>=3.4.0->it-core-news-sm==3.4.0) (1.9.2)\n",
      "Requirement already satisfied: spacy-loggers<2.0.0,>=1.0.0 in /opt/anaconda3/lib/python3.9/site-packages (from spacy<3.5.0,>=3.4.0->it-core-news-sm==3.4.0) (1.0.3)\n",
      "Requirement already satisfied: requests<3.0.0,>=2.13.0 in /opt/anaconda3/lib/python3.9/site-packages (from spacy<3.5.0,>=3.4.0->it-core-news-sm==3.4.0) (2.26.0)\n",
      "Requirement already satisfied: cymem<2.1.0,>=2.0.2 in /opt/anaconda3/lib/python3.9/site-packages (from spacy<3.5.0,>=3.4.0->it-core-news-sm==3.4.0) (2.0.6)\n",
      "Requirement already satisfied: jinja2 in /opt/anaconda3/lib/python3.9/site-packages (from spacy<3.5.0,>=3.4.0->it-core-news-sm==3.4.0) (2.11.3)\n",
      "Requirement already satisfied: spacy-legacy<3.1.0,>=3.0.9 in /opt/anaconda3/lib/python3.9/site-packages (from spacy<3.5.0,>=3.4.0->it-core-news-sm==3.4.0) (3.0.10)\n",
      "Requirement already satisfied: srsly<3.0.0,>=2.4.3 in /opt/anaconda3/lib/python3.9/site-packages (from spacy<3.5.0,>=3.4.0->it-core-news-sm==3.4.0) (2.4.4)\n",
      "Requirement already satisfied: pyparsing>=2.0.2 in /opt/anaconda3/lib/python3.9/site-packages (from packaging>=20.0->spacy<3.5.0,>=3.4.0->it-core-news-sm==3.4.0) (3.0.4)\n",
      "Requirement already satisfied: smart-open<6.0.0,>=5.2.1 in /opt/anaconda3/lib/python3.9/site-packages (from pathy>=0.3.5->spacy<3.5.0,>=3.4.0->it-core-news-sm==3.4.0) (5.2.1)\n",
      "Requirement already satisfied: typing-extensions>=3.7.4.3 in /opt/anaconda3/lib/python3.9/site-packages (from pydantic!=1.8,!=1.8.1,<1.10.0,>=1.7.4->spacy<3.5.0,>=3.4.0->it-core-news-sm==3.4.0) (3.10.0.2)\n",
      "Requirement already satisfied: certifi>=2017.4.17 in /opt/anaconda3/lib/python3.9/site-packages (from requests<3.0.0,>=2.13.0->spacy<3.5.0,>=3.4.0->it-core-news-sm==3.4.0) (2021.10.8)\n",
      "Requirement already satisfied: urllib3<1.27,>=1.21.1 in /opt/anaconda3/lib/python3.9/site-packages (from requests<3.0.0,>=2.13.0->spacy<3.5.0,>=3.4.0->it-core-news-sm==3.4.0) (1.26.7)\n",
      "Requirement already satisfied: idna<4,>=2.5 in /opt/anaconda3/lib/python3.9/site-packages (from requests<3.0.0,>=2.13.0->spacy<3.5.0,>=3.4.0->it-core-news-sm==3.4.0) (3.2)\n",
      "Requirement already satisfied: charset-normalizer~=2.0.0 in /opt/anaconda3/lib/python3.9/site-packages (from requests<3.0.0,>=2.13.0->spacy<3.5.0,>=3.4.0->it-core-news-sm==3.4.0) (2.0.4)\n",
      "Requirement already satisfied: blis<0.8.0,>=0.7.8 in /opt/anaconda3/lib/python3.9/site-packages (from thinc<8.2.0,>=8.1.0->spacy<3.5.0,>=3.4.0->it-core-news-sm==3.4.0) (0.7.8)\n",
      "Requirement already satisfied: click<9.0.0,>=7.1.1 in /opt/anaconda3/lib/python3.9/site-packages (from typer<0.5.0,>=0.3.0->spacy<3.5.0,>=3.4.0->it-core-news-sm==3.4.0) (8.0.3)\n",
      "Requirement already satisfied: MarkupSafe>=0.23 in /opt/anaconda3/lib/python3.9/site-packages (from jinja2->spacy<3.5.0,>=3.4.0->it-core-news-sm==3.4.0) (1.1.1)\n",
      "\u001b[38;5;2m✔ Download and installation successful\u001b[0m\n",
      "You can now load the package via spacy.load('it_core_news_sm')\n"
     ]
    }
   ],
   "source": [
    "!python -m spacy download it_core_news_sm"
   ]
  },
  {
   "cell_type": "markdown",
   "metadata": {
    "colab_type": "text",
    "id": "OGuoRq-UFSYs"
   },
   "source": [
    "e proviamo con una recensione del Signore degli Enigmi, i tag dettagliati per la lingua italiana sono differenti e purtroppo per essi non possiamo usare la funzione *explain(tag)* però sono abbastanza esplicativi, possiamo ottenere lista completa e il relativo tag per la lingua inglese dando uno sguardo al [codice sorgente](https://github.com/explosion/spaCy/blob/master/spacy/lang/it/tag_map.py)."
   ]
  },
  {
   "cell_type": "code",
   "execution_count": 32,
   "metadata": {
    "colab": {
     "base_uri": "https://localhost:8080/",
     "height": 294
    },
    "colab_type": "code",
    "id": "BzNpn5ZsFHu4",
    "outputId": "1c36c4d4-2494-460f-9d9a-d1f8ba003a20"
   },
   "outputs": [
    {
     "name": "stdout",
     "output_type": "stream",
     "text": [
      "TOKEN\t\tPOS\t\tTAG\n",
      "un\t\tDET\t\tRI\n",
      "pò\t\tADP\t\tE\n",
      "troppo\t\tADV\t\tB\n",
      "difficile\t\tADJ\t\tA\n",
      "ci\t\tPRON\t\tPC\n",
      "sto\t\tAUX\t\tVA\n",
      "mettendo\t\tVERB\t\tV\n",
      "tantissimo\t\tADJ\t\tA\n",
      "tempo\t\tNOUN\t\tS\n",
      "solo\t\tADV\t\tB\n",
      "per\t\tADP\t\tE\n",
      "il\t\tDET\t\tRD\n",
      "primo\t\tADJ\t\tNO\n",
      "livello\t\tNOUN\t\tS\n"
     ]
    }
   ],
   "source": [
    "import spacy\n",
    "\n",
    "nlp = spacy.load(\"it_core_news_sm\")\n",
    "\n",
    "doc = nlp(\"un pò troppo difficile ci sto mettendo tantissimo tempo solo per il primo livello\")\n",
    "\n",
    "print(\"TOKEN\\t\\tPOS\\t\\tTAG\")\n",
    "\n",
    "for token in doc:\n",
    "  print(token.text+\"\\t\\t\"+token.pos_+\"\\t\\t\"+token.tag_)"
   ]
  },
  {
   "cell_type": "markdown",
   "metadata": {
    "colab_type": "text",
    "id": "3txeCwdnfKzn"
   },
   "source": []
  },
  {
   "cell_type": "markdown",
   "metadata": {
    "colab_type": "text",
    "id": "vy2yN_N2A1Nr"
   },
   "source": [
    "## LINK UTILI\n",
    " - https://www.nltk.org/book/ch05.html"
   ]
  }
 ],
 "metadata": {
  "colab": {
   "include_colab_link": true,
   "name": "pos_tagging.ipynb",
   "provenance": [],
   "version": "0.3.2"
  },
  "kernelspec": {
   "display_name": "Python 3 (ipykernel)",
   "language": "python",
   "name": "python3"
  },
  "language_info": {
   "codemirror_mode": {
    "name": "ipython",
    "version": 3
   },
   "file_extension": ".py",
   "mimetype": "text/x-python",
   "name": "python",
   "nbconvert_exporter": "python",
   "pygments_lexer": "ipython3",
   "version": "3.9.7"
  },
  "toc": {
   "base_numbering": 1,
   "nav_menu": {},
   "number_sections": true,
   "sideBar": true,
   "skip_h1_title": false,
   "title_cell": "Table of Contents",
   "title_sidebar": "Contents",
   "toc_cell": false,
   "toc_position": {},
   "toc_section_display": true,
   "toc_window_display": false
  }
 },
 "nbformat": 4,
 "nbformat_minor": 1
}
