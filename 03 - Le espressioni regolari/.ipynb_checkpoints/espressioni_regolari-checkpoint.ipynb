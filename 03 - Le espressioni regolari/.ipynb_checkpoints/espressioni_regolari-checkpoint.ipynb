{
 "cells": [
  {
   "cell_type": "markdown",
   "metadata": {
    "colab_type": "text",
    "id": "view-in-github"
   },
   "source": [
    "<a href=\"https://colab.research.google.com/github/ProfAI/nlp00/blob/master/3%20-%20Le%20espressioni%20regolari/espressioni_regolari.ipynb\" target=\"_parent\"><img src=\"https://colab.research.google.com/assets/colab-badge.svg\" alt=\"Open In Colab\"/></a>"
   ]
  },
  {
   "cell_type": "markdown",
   "metadata": {
    "colab_type": "text",
    "id": "4oE6IaJ-6eYO"
   },
   "source": [
    "# Usare le espressioni regolari con Python\n",
    "In questo notebook vederemo come possiamo utilizzare le espressioni regolari (regex) con Python, per pulire il testo o/e estrarre informazioni da esso. \n",
    "<br>\n",
    "Possiamo usare le espressioni regolari in Python con il modulo **re**, incluso nella Standard Library, importiamolo."
   ]
  },
  {
   "cell_type": "code",
   "execution_count": 1,
   "metadata": {
    "colab": {},
    "colab_type": "code",
    "id": "0xXhkz1X6cB4"
   },
   "outputs": [],
   "source": [
    "import re"
   ]
  },
  {
   "cell_type": "markdown",
   "metadata": {
    "colab_type": "text",
    "id": "YfEG6UZWCra3"
   },
   "source": [
    "### Ricerca di una sotto-stringa.\n",
    "Possiamo effettuare una ricerca utilizzando la funzione *search* a cui dovremo passare il pattern da cercare e il testo in cui effettuare la ricerca."
   ]
  },
  {
   "cell_type": "code",
   "execution_count": 3,
   "metadata": {
    "colab": {
     "base_uri": "https://localhost:8080/",
     "height": 34
    },
    "colab_type": "code",
    "id": "J5jenoB5_jRk",
    "outputId": "68f58d8e-a62c-40f6-c13a-2820428a8eda"
   },
   "outputs": [
    {
     "name": "stdout",
     "output_type": "stream",
     "text": [
      "<class 're.Match'>\n"
     ]
    }
   ],
   "source": [
    "text = \"Questo corso di Natural Language Processing spacca !\"\n",
    "\n",
    "pattern = \"corso\" #cosa vogliamo cercare nella stringa\n",
    "search_pattern = re.search(pattern, text)\n",
    "\n",
    "print(type(search_pattern))"
   ]
  },
  {
   "cell_type": "markdown",
   "metadata": {
    "colab_type": "text",
    "id": "JQNHLqMEYUGJ"
   },
   "source": [
    "Il risultato è un'oggetto di tipo *SRE_Match* che contiene al suo interno gli indici di inizio e fine della sotto-stringa all'interno della stringa, possiamo accedervi con il metodo *span()*."
   ]
  },
  {
   "cell_type": "code",
   "execution_count": 4,
   "metadata": {},
   "outputs": [
    {
     "data": {
      "text/plain": [
       "(7, 12)"
      ]
     },
     "execution_count": 4,
     "metadata": {},
     "output_type": "execute_result"
    }
   ],
   "source": [
    "search_pattern.span()"
   ]
  },
  {
   "cell_type": "markdown",
   "metadata": {
    "colab_type": "text",
    "id": "HEgJSACFYhAf"
   },
   "source": [
    "Come vedi in questo caso la parola *corso* inzia all'indice 7 della stringa che abbiamo definito e termina all'indice 12. L'ouput del metodo *span* è una tupla che contiene entrambi gli indici, possiamo anche accedere ai singoli indici usando i metodi *start()* ed *end*, quindi possiamo usare questi valori per estrarre la sottostringa dalla nostra stringa."
   ]
  },
  {
   "cell_type": "code",
   "execution_count": 6,
   "metadata": {},
   "outputs": [
    {
     "data": {
      "text/plain": [
       "7"
      ]
     },
     "execution_count": 6,
     "metadata": {},
     "output_type": "execute_result"
    }
   ],
   "source": [
    "search_pattern.start()"
   ]
  },
  {
   "cell_type": "code",
   "execution_count": 7,
   "metadata": {},
   "outputs": [
    {
     "data": {
      "text/plain": [
       "12"
      ]
     },
     "execution_count": 7,
     "metadata": {},
     "output_type": "execute_result"
    }
   ],
   "source": [
    "search_pattern.end()"
   ]
  },
  {
   "cell_type": "code",
   "execution_count": 38,
   "metadata": {
    "colab": {
     "base_uri": "https://localhost:8080/",
     "height": 34
    },
    "colab_type": "code",
    "id": "OjH8pULWARBg",
    "outputId": "a56b1906-6df6-4ceb-e860-e0e8fd2250bd"
   },
   "outputs": [
    {
     "data": {
      "text/plain": [
       "'corso'"
      ]
     },
     "execution_count": 38,
     "metadata": {
      "tags": []
     },
     "output_type": "execute_result"
    }
   ],
   "source": [
    "text[search_pattern.start():search_pattern.end()]"
   ]
  },
  {
   "cell_type": "markdown",
   "metadata": {
    "colab_type": "text",
    "id": "5MGGbQzkY70_"
   },
   "source": [
    "Piuttosto che usare lo slicing come sopra è più conveniente usare il metodo *group()* che fa esattamente la stessa cosa."
   ]
  },
  {
   "cell_type": "code",
   "execution_count": 8,
   "metadata": {
    "colab": {
     "base_uri": "https://localhost:8080/",
     "height": 34
    },
    "colab_type": "code",
    "id": "gnubPWuGD_cq",
    "outputId": "a9022f7c-f8f6-42a4-f0b8-bbb01c79ab7c"
   },
   "outputs": [
    {
     "data": {
      "text/plain": [
       "'corso'"
      ]
     },
     "execution_count": 8,
     "metadata": {},
     "output_type": "execute_result"
    }
   ],
   "source": [
    "search_pattern.group()"
   ]
  },
  {
   "cell_type": "markdown",
   "metadata": {
    "colab_type": "text",
    "id": "QU_yqHLBZC4C"
   },
   "source": [
    "Come abbiamo visto in precedenza possiamo fare questa stessa cosa con il metodo *find(pattern)* della classe *string* di Python, quindi perché utilizzare le espressioni regolari ? Perché con le espressioni regolari possiamo effettuare ricerche con pattern più generici, vediamo cosa vuol dire."
   ]
  },
  {
   "cell_type": "markdown",
   "metadata": {
    "colab_type": "text",
    "id": "W0oizddYCuX_"
   },
   "source": [
    "### Cercare un numero di telefono\n",
    "\n",
    "Sappiamo che all'interno del nostro testo è presente un numero telefonico, ma non sappiamo qual è il numero esatto, possiamo inserire come termine della ricerca un numero generico utilizzando il carattere \\d."
   ]
  },
  {
   "cell_type": "code",
   "execution_count": 10,
   "metadata": {
    "colab": {
     "base_uri": "https://localhost:8080/",
     "height": 34
    },
    "colab_type": "code",
    "id": "IYhOgZr3CIe8",
    "outputId": "78b04e66-4f0b-4dc6-8298-956a035ff796"
   },
   "outputs": [
    {
     "data": {
      "text/plain": [
       "'333 123 9876'"
      ]
     },
     "execution_count": 10,
     "metadata": {},
     "output_type": "execute_result"
    }
   ],
   "source": [
    "text = \"Questo corso di Natural Language Processing spacca, è il miglior corso di sempre e per qualsiasi problema posso chiamare Giuseppe all 333 123 9876 (non è il mio vero numero)!\"\n",
    "\n",
    "# il pattern di un'espressione regolare\n",
    "# si definisce con il carattere 'r' \n",
    "# prima della stringa\n",
    "\n",
    "pattern = r'\\d\\d\\d \\d\\d\\d \\d\\d\\d\\d'\n",
    "\n",
    "search_pattern = re.search(pattern, text)\n",
    "\n",
    "search_pattern.group()"
   ]
  },
  {
   "cell_type": "markdown",
   "metadata": {
    "colab_type": "text",
    "id": "13FWRHR1eBA0"
   },
   "source": [
    "Con il pattern definito nell'esempio abbiamo cercato tutte le sottostringhe che contengono 3 numeri, uno spazio, altri tre numeri, un'altro spazio e infine altri 4 numeri. Avremmo potuto utilizzare qualsiasi altro carattere al posto degli spazi."
   ]
  },
  {
   "cell_type": "code",
   "execution_count": 11,
   "metadata": {
    "colab": {
     "base_uri": "https://localhost:8080/",
     "height": 34
    },
    "colab_type": "code",
    "id": "ua8TwaGzDP_O",
    "outputId": "bcd4dc32-466b-4ce0-eb3b-4d23a45c379c"
   },
   "outputs": [
    {
     "data": {
      "text/plain": [
       "'333-1234-9876'"
      ]
     },
     "execution_count": 11,
     "metadata": {},
     "output_type": "execute_result"
    }
   ],
   "source": [
    "text = \"Questo corso di Natural Language Processing spacca, è il miglior corso di sempre e per qualsiasi problema posso chiamare Giuseppe all 333-1234-9876 (non è il mio vero numero)!\"\n",
    "\n",
    "pattern = r'\\d\\d\\d-\\d\\d\\d\\d-\\d\\d\\d\\d'\n",
    "\n",
    "search_pattern = re.search(pattern, text)\n",
    "\n",
    "search_pattern.group()"
   ]
  },
  {
   "cell_type": "markdown",
   "metadata": {
    "colab_type": "text",
    "id": "jHUhn6wceQ49"
   },
   "source": [
    "Un modo più elegante per indicate questo pattern è utilizzando un quantificatore, per farlo basta inserire il numero di caratteri tra parentesi graffe."
   ]
  },
  {
   "cell_type": "code",
   "execution_count": 12,
   "metadata": {
    "colab": {
     "base_uri": "https://localhost:8080/",
     "height": 34
    },
    "colab_type": "code",
    "id": "TthQTLmZErX8",
    "outputId": "2403b064-e0bb-494c-d2c3-7a0f546beac8"
   },
   "outputs": [
    {
     "data": {
      "text/plain": [
       "'333-123-9876'"
      ]
     },
     "execution_count": 12,
     "metadata": {},
     "output_type": "execute_result"
    }
   ],
   "source": [
    "text = \"Questo corso di Natural Language Processing spacca, è il miglior corso di sempre e per qualsiasi problema posso chiamare Giuseppe all 333-123-9876 (non è il mio vero numero)!\"\n",
    "  \n",
    "pattern = r'\\d{3}-\\d{3}-\\d{4}'\n",
    "\n",
    "search_pattern = re.search(pattern, text)\n",
    "\n",
    "search_pattern.group()"
   ]
  },
  {
   "cell_type": "markdown",
   "metadata": {
    "colab_type": "text",
    "id": "kdyZdjUneo59"
   },
   "source": [
    "Il risultato è lo stesso.\n",
    "<br><br>\n",
    "Possiamo anche dividere il nostro pattern in gruppi, per sapare le sue componenti, semplicemente inserendole tra parentesi tonde.\n",
    "<br>\n",
    "Ad esempio nel nostro caso potremmo separare prefisso internazionale, prefisso nazionale e la restante parte del numero."
   ]
  },
  {
   "cell_type": "code",
   "execution_count": 13,
   "metadata": {
    "colab": {
     "base_uri": "https://localhost:8080/",
     "height": 34
    },
    "colab_type": "code",
    "id": "4-r34vA-EY3R",
    "outputId": "db51e0f9-db12-43b9-ab65-a09c68d73c1c"
   },
   "outputs": [
    {
     "data": {
      "text/plain": [
       "'39 333-123-9876'"
      ]
     },
     "execution_count": 13,
     "metadata": {},
     "output_type": "execute_result"
    }
   ],
   "source": [
    "text = \"Questo corso di Natural Language Processing spacca, è il miglior corso di sempre e per qualsiasi problema posso chiamare Giuseppe al +39 333-123-9876 (non è il mio vero numero)!\"\n",
    "\n",
    "pattern = r'(\\d{2}) (\\d{3})-(\\d{3}-\\d{4})'\n",
    "\n",
    "search_pattern = re.search(pattern, text)\n",
    "\n",
    "search_pattern.group()"
   ]
  },
  {
   "cell_type": "markdown",
   "metadata": {
    "colab_type": "text",
    "id": "RbAM59Vme8Wp"
   },
   "source": [
    "Per ottenere il singolo gruppo dobbiamo passarne l'indice al metodo *group*\n",
    "<br>\n",
    "**NOTA BENE**\n",
    "<br>\n",
    "L'indice 0 rappresenta l'intera stringa."
   ]
  },
  {
   "cell_type": "code",
   "execution_count": 14,
   "metadata": {
    "colab": {
     "base_uri": "https://localhost:8080/",
     "height": 86
    },
    "colab_type": "code",
    "id": "dren5vhNE0J6",
    "outputId": "ac9a22ed-0801-42c0-a0c9-a1a930aaaab8"
   },
   "outputs": [
    {
     "name": "stdout",
     "output_type": "stream",
     "text": [
      "39 333-123-9876\n",
      "39\n",
      "333\n",
      "123-9876\n"
     ]
    }
   ],
   "source": [
    "print(search_pattern.group(0)) # numero intero\n",
    "print(search_pattern.group(1)) # prefisso internazionale\n",
    "print(search_pattern.group(2)) # prefisso nazionale\n",
    "print(search_pattern.group(3)) # numero"
   ]
  },
  {
   "cell_type": "markdown",
   "metadata": {
    "colab_type": "text",
    "id": "SAPhjSQjPU7W"
   },
   "source": [
    "### Ricerca multipla\n",
    "Effettuando una ricerca con il metodo *search* otterremo sempre e solo la prima occorrenza trovata, in caso volessimo cercare occorrenze multiple dobbiamo usare il metodo **findall**."
   ]
  },
  {
   "cell_type": "code",
   "execution_count": 16,
   "metadata": {
    "colab": {
     "base_uri": "https://localhost:8080/",
     "height": 34
    },
    "colab_type": "code",
    "id": "K_7_MzNuPXhR",
    "outputId": "49741d06-b78c-4138-b0df-365fcee1381a"
   },
   "outputs": [
    {
     "name": "stdout",
     "output_type": "stream",
     "text": [
      "[('39', '333', '123-9876'), ('39', '380', '432-9876')]\n"
     ]
    }
   ],
   "source": [
    "text = \"Questo corso di Natural Language Processing spacca, è il miglior corso di sempre e per qualsiasi problema posso chiamare Giuseppe al +39 333-123-9876 oppure al numero di Elon: +39 380-432-9876.\"\n",
    "\n",
    "pattern = r'(\\d{2}) (\\d{3})-(\\d{3}-\\d{4})'\n",
    "\n",
    "search_pattern = re.findall(pattern, text)\n",
    "\n",
    "type(search_pattern)\n",
    "print(search_pattern)"
   ]
  },
  {
   "cell_type": "code",
   "execution_count": 17,
   "metadata": {},
   "outputs": [
    {
     "data": {
      "text/plain": [
       "('39', '333', '123-9876')"
      ]
     },
     "execution_count": 17,
     "metadata": {},
     "output_type": "execute_result"
    }
   ],
   "source": [
    "search_pattern[0]"
   ]
  },
  {
   "cell_type": "markdown",
   "metadata": {
    "colab_type": "text",
    "id": "4eUmCvltfeee"
   },
   "source": [
    "L'output è una lista di tutte le occorrenze trovate."
   ]
  },
  {
   "cell_type": "code",
   "execution_count": 66,
   "metadata": {
    "colab": {
     "base_uri": "https://localhost:8080/",
     "height": 51
    },
    "colab_type": "code",
    "id": "FGAuIPbhQQIr",
    "outputId": "392108eb-9871-4cfb-bd72-5af2d39af380"
   },
   "outputs": [
    {
     "name": "stdout",
     "output_type": "stream",
     "text": [
      "<class 'tuple'>\n",
      "39 333 123-9876\n"
     ]
    }
   ],
   "source": [
    "first_number = search_pattern[0]\n",
    "print(type(first_number))\n",
    "\n",
    "first_number = \" \".join(first_number)\n",
    "print(first_number)"
   ]
  },
  {
   "cell_type": "markdown",
   "metadata": {
    "colab_type": "text",
    "id": "6BaXMVEQ0GW0"
   },
   "source": [
    "Se non siamo sicuri del numero di cifre possiamo specificare un limite del tipo \\d{2,5} che cercherà qualsiasi stringa composta da  2 a 5 numeri."
   ]
  },
  {
   "cell_type": "code",
   "execution_count": 207,
   "metadata": {
    "colab": {
     "base_uri": "https://localhost:8080/",
     "height": 34
    },
    "colab_type": "code",
    "id": "ZoWsTTvU0OY3",
    "outputId": "61cf8d39-27ea-4ee1-bd91-6c3a0cf6ef41"
   },
   "outputs": [
    {
     "name": "stdout",
     "output_type": "stream",
     "text": [
      "[('39', '333', '1234-987'), ('39', '380', '432-9876')]\n"
     ]
    }
   ],
   "source": [
    "text = \"Questo corso di Natural Language Processing spacca, è il miglior corso di sempre e per qualsiasi problema posso chiamare Giuseppe al +39 333-1234-987 oppure al numero di Elon: +39 380-432-9876.\"\n",
    "\n",
    "pattern = r'(\\d{2}) (\\d{3})-(\\d{3,5}-\\d{3,5})'\n",
    "\n",
    "search_pattern = re.findall(pattern, text)\n",
    "\n",
    "type(search_pattern)\n",
    "print(search_pattern)"
   ]
  },
  {
   "cell_type": "markdown",
   "metadata": {
    "colab_type": "text",
    "id": "KSGTsoTaVnfG"
   },
   "source": [
    "Vediamo come possiamo creare un'espressione regolare per tirare fuori tutti gli indirizzi email presenti nel testo.\n",
    "<br>\n",
    "Per farlo possiamo semplicemente cercare la presenta di una @ e poi prendere tutti i caratteri che la precedono e che la seguono fino allo spazio.\n",
    "<br>\n",
    "Per cercare tutti i caratteri che non siano uno spazio possiamo usare il carattere \\S seguito da un'altro quantificatore, il +.\n",
    "<br>\n",
    "Per comprendere il funzionamento del quantificatore + facciamo un esempio."
   ]
  },
  {
   "cell_type": "code",
   "execution_count": 208,
   "metadata": {
    "colab": {
     "base_uri": "https://localhost:8080/",
     "height": 71
    },
    "colab_type": "code",
    "id": "20cL6Dpfg8tE",
    "outputId": "5985371b-1508-428f-d014-0f9c45eb10bd"
   },
   "outputs": [
    {
     "name": "stdout",
     "output_type": "stream",
     "text": [
      "['T', 'a', 'n', 't', 'o', 'v', 'a', 'l', 'a', 'g', 'a', 't', 't', 'a', 'a', 'l', 'l', 'a', 'r', 'd', 'o', 'c', 'h', 'e', 'c', 'i', 'l', 'a', 's', 'c', 'i', 'a', 'l', 'o', 'z', 'a', 'm', 'p', 'i', 'n', 'o']\n",
      "['Tanto', 'va', 'la', 'gatta', 'al', 'lardo', 'che', 'ci', 'lascia', 'lo', 'zampino']\n"
     ]
    }
   ],
   "source": [
    "text = \"Tanto va la gatta al lardo che ci lascia lo zampino\"\n",
    "\n",
    "print(re.findall(r'\\S', text))\n",
    "print(re.findall(r'\\S+', text))"
   ]
  },
  {
   "cell_type": "markdown",
   "metadata": {
    "colab_type": "text",
    "id": "Uyq_FJMuk0v3"
   },
   "source": [
    "Per cercare tutti i caratteri che non siano uno spazio possiamo usare il carattere \\S, come vedi senza utilizzare il quntificatore + abbiamo ottenuto la lista di caratteri, mentre con il + la lista delle stringhe (ovvero tutti i caratteri fino al primo spazio).\n",
    "<br><br>\n",
    "**NOTA BENE**\n",
    "<br>\n",
    "Solitamente il maiuscolo e minuscolo nei caratteri delle espressioni regolari è utilizzato per indicare operazioni inverse, quindi ad esempio \\s selezionerà uno spazio mentre \\S selezionerà tutto ciò che non è uno spazio, possiamo anche esprimere una negazione con il carattere ^, quindi ^\\s=\\S\n",
    "<br><br>\n",
    "Adesso utilizziamo queste informazioni per estrarre gli indirizzi email da del testo."
   ]
  },
  {
   "cell_type": "code",
   "execution_count": 20,
   "metadata": {},
   "outputs": [
    {
     "data": {
      "text/plain": [
       "['support@profession.ai', 'giuseppe@profession.ai']"
      ]
     },
     "execution_count": 20,
     "metadata": {},
     "output_type": "execute_result"
    }
   ],
   "source": [
    "text = \"Per assistenza scrivi pure a support@profession.ai oppure se vuoi parlare direttamente con Giuseppe scrivi a giuseppe@profession.ai.\"\n",
    "pattern = r\"[a-z0-9]+@[a-z]+\\.[a-z]{2,3}\"\n",
    "search_pattern = re.findall(pattern,text)\n",
    "search_pattern"
   ]
  },
  {
   "cell_type": "code",
   "execution_count": 21,
   "metadata": {
    "colab": {
     "base_uri": "https://localhost:8080/",
     "height": 34
    },
    "colab_type": "code",
    "id": "oI6FqyBVVqWT",
    "outputId": "5523195f-e9ab-40b0-8d76-217cc57723af"
   },
   "outputs": [
    {
     "name": "stdout",
     "output_type": "stream",
     "text": [
      "['support@profession.ai', 'giuseppe@profession.ai.']\n"
     ]
    }
   ],
   "source": [
    "text = \"Per assistenza scrivi pure a support@profession.ai oppure se vuoi parlare direttamente con Giuseppe scrivi a giuseppe@profession.ai.\"\n",
    "\n",
    "pattern = r'\\S+@\\S+' #S: tutti i caratteri che non sono degli spazi\n",
    "\n",
    "search_pattern = re.findall(pattern, text)\n",
    "\n",
    "type(search_pattern)\n",
    "print(search_pattern)"
   ]
  },
  {
   "cell_type": "markdown",
   "metadata": {
    "colab_type": "text",
    "id": "C2FiWKPORRIM"
   },
   "source": [
    "### Rimozione e sostituzione\n",
    "Possiamo anche utilizzare le espressioni regolari per \"pulire\" del testo, rimuovendo caratteri e pattern che non ci servono.\n",
    "In tal caso dobbiamo racchiudere i caratteri da eliminare tra parentesi quadre e utilizzare il metodo **sub** che prende come input il pattern, una stringa con la quale sostituire i pattern trovati e il testo nella quale effettuare la ricerca.\n",
    "<br>\n",
    "Possiamo rimuovere i pattern semplicemente utilizzando una stringa vuota come secondo parametro.\n",
    "<br>\n",
    "Ad esempio, proviamo a rimuovere la punteggiatura."
   ]
  },
  {
   "cell_type": "code",
   "execution_count": 22,
   "metadata": {
    "colab": {
     "base_uri": "https://localhost:8080/",
     "height": 54
    },
    "colab_type": "code",
    "id": "WgtMVltrRcx6",
    "outputId": "f3d39781-b6bd-4ec9-acea-f9e8afb92853"
   },
   "outputs": [
    {
     "name": "stdout",
     "output_type": "stream",
     "text": [
      "Questo corso di Natural Language Processing spacca è il miglior corso di sempre (o almeno spero che lo sia)\n"
     ]
    }
   ],
   "source": [
    "text = \"Questo corso di Natural Language Processing spacca, è il miglior corso di sempre (o almeno spero che lo sia...)\"\n",
    "\n",
    "pattern = r'[!.,]'\n",
    "\n",
    "text = re.sub(pattern, '', text)\n",
    "\n",
    "print(text)"
   ]
  },
  {
   "cell_type": "markdown",
   "metadata": {
    "colab_type": "text",
    "id": "CapbYv2nmNfA"
   },
   "source": [
    "Come vedi abbiamo rimosso tutti i caratteri di punteggiatura definit da noi, ma le parentesi tonde sono rimaste, perché ? Perché non avevamo specificato di rimuovere anche le parentesi tonde dal testo.\n",
    "<br>\n",
    "Un modo migliore per rimuovere la punteggiatura dal testo è usando questa espressione regolare **[^\\w\\s]**.\n",
    "<br>\n",
    "Il carattere \\w rappresenta tutti i caratteri alfanumerici, mentre il \\s rappresneta gli spazi, il ^ effettua una negazione, quindi la nostra espressione regolare selezionerà tutti i caratteri che non sono alfanumerici e che non sono spazi.\n"
   ]
  },
  {
   "cell_type": "code",
   "execution_count": 23,
   "metadata": {
    "colab": {
     "base_uri": "https://localhost:8080/",
     "height": 54
    },
    "colab_type": "code",
    "id": "qACuhlEDS-V0",
    "outputId": "391e202c-5f7b-4a6b-ea88-bfd93eb54209"
   },
   "outputs": [
    {
     "name": "stdout",
     "output_type": "stream",
     "text": [
      "Questo corso di Natural Language Processing spacca è il miglior corso di sempre o almeno spero che lo sia\n"
     ]
    }
   ],
   "source": [
    "text = \"Questo corso di Natural Language Processing spacca è il miglior corso di sempre (o almeno spero che lo sia...)\"\n",
    "\n",
    "pattern = r'[^\\w\\s]'\n",
    "\n",
    "text = re.sub(pattern, '', text)\n",
    "\n",
    "print(text)"
   ]
  },
  {
   "cell_type": "markdown",
   "metadata": {
    "colab_type": "text",
    "id": "FPhS0Shz3uu2"
   },
   "source": [
    "In un notebook precedente abbiamo detto che avremmo potuto usare un'espressione regolare per rimuovere gli spazi multipli, l'espressione è la seguente"
   ]
  },
  {
   "cell_type": "code",
   "execution_count": 25,
   "metadata": {
    "colab": {
     "base_uri": "https://localhost:8080/",
     "height": 54
    },
    "colab_type": "code",
    "id": "epauC47S3WYX",
    "outputId": "5642d400-4acb-4757-e1f4-2b47f01ca8c9"
   },
   "outputs": [
    {
     "name": "stdout",
     "output_type": "stream",
     "text": [
      " Questo corso di Natural Language Processing spacca è il miglior corso di sempre (o almeno spero che lo sia...)\n"
     ]
    }
   ],
   "source": [
    "text = \"   Questo        corso   di        Natural Language Processing spacca è     il miglior corso di sempre  (o     almeno spero che lo sia...)\"\n",
    "pattern= r' +'\n",
    "text = re.sub(pattern, ' ', text)\n",
    "\n",
    "print(text)"
   ]
  },
  {
   "cell_type": "markdown",
   "metadata": {
    "colab_type": "text",
    "id": "4_i2m2_B35FO"
   },
   "source": [
    "Come vedi abbiamo selezionato uno o più spazi e li abbiamo sostituiti con un unico spazio."
   ]
  },
  {
   "cell_type": "markdown",
   "metadata": {
    "colab_type": "text",
    "id": "rDqT3nIkwijE"
   },
   "source": [
    "## Altri caratteri utili"
   ]
  },
  {
   "cell_type": "code",
   "execution_count": 27,
   "metadata": {
    "colab": {},
    "colab_type": "code",
    "id": "_nILikGKwp48"
   },
   "outputs": [],
   "source": [
    "text = \"Questo corso di Natural Language Processing spacca è il miglior corso di sempre - Feedback di BestStudent95\""
   ]
  },
  {
   "cell_type": "markdown",
   "metadata": {
    "colab_type": "text",
    "id": "QPv2ed8vzE6Y"
   },
   "source": [
    "#### Matching per inizio-fine (\\b)"
   ]
  },
  {
   "cell_type": "code",
   "execution_count": 28,
   "metadata": {
    "colab": {
     "base_uri": "https://localhost:8080/",
     "height": 34
    },
    "colab_type": "code",
    "id": "w8frs8_Dw3OX",
    "outputId": "ae615e98-b0d5-47d0-8b8f-338dbfe3c5bc"
   },
   "outputs": [
    {
     "data": {
      "text/plain": [
       "['corso', 'corso']"
      ]
     },
     "execution_count": 28,
     "metadata": {},
     "output_type": "execute_result"
    }
   ],
   "source": [
    "# Selezioniamo tutte le stringhe che cominciano con il carattere 'c'\n",
    "re.findall(r\"\\bc\\w+\", text)"
   ]
  },
  {
   "cell_type": "code",
   "execution_count": 29,
   "metadata": {
    "colab": {
     "base_uri": "https://localhost:8080/",
     "height": 34
    },
    "colab_type": "code",
    "id": "SwcEvWnWxu0k",
    "outputId": "9949ba24-abea-4aaa-c8e6-34087b457cfa"
   },
   "outputs": [
    {
     "data": {
      "text/plain": [
       "['Questo', 'corso', 'corso']"
      ]
     },
     "execution_count": 29,
     "metadata": {},
     "output_type": "execute_result"
    }
   ],
   "source": [
    "# Selezioniamo tutte le stringhe che  con il terminano con il carattere 'o'\n",
    "re.findall(r\"\\w+o\\b\", text)"
   ]
  },
  {
   "cell_type": "markdown",
   "metadata": {
    "colab_type": "text",
    "id": "VU6FFklGzRdR"
   },
   "source": [
    "### Ricerca per sets [ ] ( )"
   ]
  },
  {
   "cell_type": "code",
   "execution_count": 30,
   "metadata": {
    "colab": {
     "base_uri": "https://localhost:8080/",
     "height": 34
    },
    "colab_type": "code",
    "id": "g4B_3Gc_ytro",
    "outputId": "0d530f5b-a24e-4fbc-fcf7-113fa0117a94"
   },
   "outputs": [
    {
     "data": {
      "text/plain": [
       "['Natural', 'Language', 'Processing', 'spacca', 'Feedback']"
      ]
     },
     "execution_count": 30,
     "metadata": {},
     "output_type": "execute_result"
    }
   ],
   "source": [
    "# Selezioniamo tutte le stringhe che contengono a,b o c al suo interno.\n",
    "re.findall(r\"\\w+[abc]\\w+\", text)"
   ]
  },
  {
   "cell_type": "code",
   "execution_count": 31,
   "metadata": {
    "colab": {
     "base_uri": "https://localhost:8080/",
     "height": 34
    },
    "colab_type": "code",
    "id": "bv2kFx86zX5O",
    "outputId": "f51857a4-8b95-4745-9065-785df471387a"
   },
   "outputs": [
    {
     "data": {
      "text/plain": [
       "['corso', 'spacca', 'corso']"
      ]
     },
     "execution_count": 31,
     "metadata": {},
     "output_type": "execute_result"
    }
   ],
   "source": [
    "# Selezioniamo tutte le parole uguali a 'corso' e 'spacca'\n",
    "re.findall(r\"(corso|spacca)\", text)"
   ]
  },
  {
   "cell_type": "code",
   "execution_count": 32,
   "metadata": {
    "colab": {
     "base_uri": "https://localhost:8080/",
     "height": 34
    },
    "colab_type": "code",
    "id": "uMauKISw1eFK",
    "outputId": "81d40ea7-7560-473a-d2f5-6612abd03dae"
   },
   "outputs": [
    {
     "data": {
      "text/plain": [
       "['corso', 'di', 'corso', 'di', 'di']"
      ]
     },
     "execution_count": 32,
     "metadata": {},
     "output_type": "execute_result"
    }
   ],
   "source": [
    "# Selezioniamo tutte le parole che iniziano con una lettera da a a e.\n",
    "re.findall(r\"\\b[a-e]\\w+\", text)"
   ]
  },
  {
   "cell_type": "code",
   "execution_count": 33,
   "metadata": {
    "colab": {
     "base_uri": "https://localhost:8080/",
     "height": 34
    },
    "colab_type": "code",
    "id": "dPpeBbwt19Nu",
    "outputId": "767c8f86-47fc-4227-8448-e9edc9538515"
   },
   "outputs": [
    {
     "data": {
      "text/plain": [
       "['BestStudent95']"
      ]
     },
     "execution_count": 33,
     "metadata": {},
     "output_type": "execute_result"
    }
   ],
   "source": [
    "# Selezioniamo tutte le parole che contengono un numero tra 1 e 5\n",
    "re.findall(r\"\\w*[0-5]\\w*\", text)"
   ]
  },
  {
   "cell_type": "markdown",
   "metadata": {
    "colab_type": "text",
    "id": "-LqHeN0c2j45"
   },
   "source": [
    "L'operatore * è un'altro quantificatore che funziona in maniera simile al +, piuttosto che selezionare 1 o più occorrenze ne seleziona 0 o più, permettendoci di selezionare anche pattern che si trovano all'inizio o alla fine della parola."
   ]
  },
  {
   "cell_type": "markdown",
   "metadata": {
    "colab_type": "text",
    "id": "JQi3bvOv6sAQ"
   },
   "source": [
    "## LINK UTILI\n",
    "\n",
    "- https://medium.com/factory-mind/regex-tutorial-a-simple-cheatsheet-by-examples-649dc1c3f285\n",
    "- https://docs.python.org/3/library/re.html\n",
    "- https://www.w3schools.com/python/python_regex.asp"
   ]
  }
 ],
 "metadata": {
  "colab": {
   "include_colab_link": true,
   "name": "espressioni_regolari.ipynb",
   "provenance": [],
   "version": "0.3.2"
  },
  "kernelspec": {
   "display_name": "Python 3 (ipykernel)",
   "language": "python",
   "name": "python3"
  },
  "language_info": {
   "codemirror_mode": {
    "name": "ipython",
    "version": 3
   },
   "file_extension": ".py",
   "mimetype": "text/x-python",
   "name": "python",
   "nbconvert_exporter": "python",
   "pygments_lexer": "ipython3",
   "version": "3.9.7"
  },
  "toc": {
   "base_numbering": 1,
   "nav_menu": {},
   "number_sections": true,
   "sideBar": true,
   "skip_h1_title": false,
   "title_cell": "Table of Contents",
   "title_sidebar": "Contents",
   "toc_cell": false,
   "toc_position": {},
   "toc_section_display": true,
   "toc_window_display": false
  }
 },
 "nbformat": 4,
 "nbformat_minor": 1
}
